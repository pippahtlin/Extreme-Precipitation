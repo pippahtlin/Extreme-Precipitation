{
 "cells": [
  {
   "cell_type": "markdown",
   "id": "7b6fd7fe-02d0-499e-80c6-b3da06f4a330",
   "metadata": {},
   "source": [
    "### Precipitation Data"
   ]
  },
  {
   "cell_type": "code",
   "execution_count": 1,
   "id": "4e9a033a-e661-49f1-be30-e7e50d2066ea",
   "metadata": {},
   "outputs": [],
   "source": [
    "import pandas as pd"
   ]
  },
  {
   "cell_type": "code",
   "execution_count": null,
   "id": "53138dd6-8bde-4447-9f99-ae84929f1b15",
   "metadata": {},
   "outputs": [],
   "source": [
    "file_path = "
   ]
  }
 ],
 "metadata": {
  "kernelspec": {
   "display_name": "Python 3 (ipykernel)",
   "language": "python",
   "name": "python3"
  },
  "language_info": {
   "codemirror_mode": {
    "name": "ipython",
    "version": 3
   },
   "file_extension": ".py",
   "mimetype": "text/x-python",
   "name": "python",
   "nbconvert_exporter": "python",
   "pygments_lexer": "ipython3",
   "version": "3.9.13"
  }
 },
 "nbformat": 4,
 "nbformat_minor": 5
}
