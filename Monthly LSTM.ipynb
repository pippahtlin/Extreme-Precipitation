{
 "cells": [
  {
   "cell_type": "code",
   "execution_count": null,
   "id": "08db7db8-3dc8-41f7-81bf-dec9da07f3ec",
   "metadata": {},
   "outputs": [],
   "source": [
    "df = pd.read_csv(\"https://raw.githubusercontent.com/pippahtlin/Extreme-Precipitation/main/data/precipitation_soi_monthly\")\n",
    "df.set_index('date', inplace=True)\n",
    "df"
   ]
  },
  {
   "cell_type": "markdown",
   "id": "9bba4099-9966-41dd-9475-70d2ae5b8e3e",
   "metadata": {},
   "source": [
    "## 1. EDA"
   ]
  },
  {
   "cell_type": "code",
   "execution_count": null,
   "id": "b43faef9-9e37-49b4-b462-e22cff33fa94",
   "metadata": {},
   "outputs": [],
   "source": [
    "plt.figure(figsize=(14, 7))\n",
    "plt.xticks(rotation=45)\n",
    "plt.gca().xaxis.set_major_locator(MaxNLocator(nbins=30))\n",
    "\n",
    "plt.plot(df.index,df['monthly rain'],label = 'Monthly Rain')\n",
    "plt.title('Monthly Rain Over Time')\n",
    "plt.xlabel('Date')\n",
    "plt.ylabel('Rainfall (mm)')\n",
    "plt.tight_layout()\n",
    "plt.show()"
   ]
  },
  {
   "cell_type": "code",
   "execution_count": null,
   "id": "45f18d22-f52d-44fc-a292-3ae925a7419f",
   "metadata": {},
   "outputs": [],
   "source": [
    "plt.figure(figsize=(20, 7))\n",
    "plt.xticks(rotation=45)\n",
    "plt.gca().xaxis.set_major_locator(MaxNLocator(nbins=40))\n",
    "\n",
    "plt.plot(df.index, df['binary rain'], 'o', label = 'Extreme Precipitation')\n",
    "plt.title('Extreme Precipitation over Time')\n",
    "plt.xlabel('Date')\n",
    "plt.ylabel('Rainfall (mm)')\n",
    "plt.tight_layout()\n",
    "plt.show()"
   ]
  },
  {
   "cell_type": "code",
   "execution_count": null,
   "id": "b29bd64d-d827-4826-8654-5b70aa54823b",
   "metadata": {},
   "outputs": [],
   "source": [
    "months = len(df['binary rain'])\n",
    "pos_prop = df['binary rain'].sum()/ len(df['binary rain'])\n",
    "print(f'Number of months: {months}')\n",
    "print(f'Proportion of extreme precpiptation: {pos_prop}')"
   ]
  },
  {
   "cell_type": "markdown",
   "id": "d3d7a413-d54f-4939-ac79-aba68acdbffe",
   "metadata": {},
   "source": [
    "<br>\n",
    "\n",
    "## 2. Split Data\n",
    "Training set: 70% | Validation set: 15% | Testing set: 15%"
   ]
  },
  {
   "cell_type": "code",
   "execution_count": null,
   "id": "6601320f-0d31-4917-a9d2-1f2e2f93a321",
   "metadata": {},
   "outputs": [],
   "source": [
    "# Calculate indices for splitting\n",
    "total_rows = len(df)\n",
    "train_end = int(total_rows * 0.7)\n",
    "validation_end = train_end + int(total_rows * 0.15)\n",
    "\n",
    "# Using iloc for integer-location based indexing\n",
    "train_features = df[\"soi\"].iloc[:train_end]\n",
    "train_rain = df.iloc[:train_end]['binary rain']\n",
    "\n",
    "validation_features = df[\"soi\"].iloc[train_end:validation_end]\n",
    "validation_rain = df.iloc[train_end:validation_end]['binary rain']\n",
    "\n",
    "test_features = df[\"soi\"].iloc[validation_end:]\n",
    "test_rain = df.iloc[validation_end:]['binary rain']"
   ]
  },
  {
   "cell_type": "code",
   "execution_count": null,
   "id": "d3217d05-a734-4c8b-ae7d-6aab4e9ffd33",
   "metadata": {},
   "outputs": [],
   "source": [
    "T = 30 # Consider seasonality\n",
    "\n",
    "# Prepend the last T-1 observations from the training set to the validation features\n",
    "prepend_features_to_validation = train_features.iloc[-(T-1):]\n",
    "validation_features = pd.concat([prepend_features_to_validation, validation_features], axis=0)\n",
    "\n",
    "# Similarly, prepend the last T-1 observations from the validation set (including the part that was just prepended) to the test features\n",
    "prepend_features_to_test = validation_features.iloc[-(T-1):]\n",
    "test_features = pd.concat([prepend_features_to_test, test_features], axis=0)\n",
    "\n",
    "# Output the shapes of the datasets to check everything is as expected\n",
    "train_features.shape, train_rain.shape, validation_features.shape, validation_rain.shape, test_features.shape, test_rain.shape"
   ]
  },
  {
   "cell_type": "markdown",
   "id": "4dcee2d4-f9c2-4b5c-8e42-13183b123294",
   "metadata": {},
   "source": [
    "<br>\n",
    "\n",
    "## 3. Data Preprocessing\n",
    "Input data for the Keras LSTM layer has 3 dimensions: (M, T, N), where\n",
    "* M - number of examples (2D: sequences of timesteps x features),\n",
    "* T - sequence length (timesteps) and\n",
    "* N - number of features (input_dim)"
   ]
  },
  {
   "cell_type": "code",
   "execution_count": null,
   "id": "6d564a8d-4cd7-4858-b42a-efece28f6e0a",
   "metadata": {},
   "outputs": [],
   "source": [
    "# Create sequences of T timesteps\n",
    "X_train, y_train = [], []\n",
    "for i in range(len(train_rain) - (T-1)):\n",
    "    X_train.append(train_features.iloc[i:i+T].values)\n",
    "    y_train.append(train_rain.iloc[i + (T-1)])\n",
    "\n",
    "X_train, y_train = np.array(X_train), np.array(y_train).reshape(-1,1) # Reshape to vector for model\n",
    "X_train = X_train[:, :, np.newaxis]\n",
    "print(f'Train data dimensions: {X_train.shape}, {y_train.shape}')\n",
    "\n",
    "\n",
    "X_val, y_val = [], []\n",
    "for i in range(len(validation_rain) - (T-1)):\n",
    "    X_val.append(validation_features.iloc[i:i+T].values)\n",
    "    y_val.append(validation_rain.iloc[i + (T-1)])\n",
    "X_val, y_val = np.array(X_val), np.array(y_val).reshape(-1,1)\n",
    "X_val = X_val[:, :, np.newaxis]\n",
    "print(f'Validation data dimensions: {X_val.shape}, {y_val.shape}')\n",
    "\n",
    "X_test, y_test = [], []\n",
    "for i in range(len(test_rain)):\n",
    "    X_test.append(test_features.iloc[i:i+T].values)\n",
    "    y_test.append(test_rain.iloc[i])\n",
    "X_test, y_test = np.array(X_test), np.array(y_test).reshape(-1,1)\n",
    "X_test = X_test[:, :, np.newaxis]\n",
    "\n",
    "print(f'Test data dimensions: {X_test.shape}, {y_test.shape}')"
   ]
  },
  {
   "cell_type": "markdown",
   "id": "c6e028c1-a5a1-48e5-9c1e-82cb25cf2bc9",
   "metadata": {},
   "source": [
    "<br>\n",
    "\n",
    "## 4. Batch Training and Predictions"
   ]
  },
  {
   "cell_type": "code",
   "execution_count": null,
   "id": "fd61a418-e112-490f-9d19-2dc32e8a10fb",
   "metadata": {},
   "outputs": [],
   "source": [
    "# Import Keras\n",
    "import keras\n",
    "from keras.models import Sequential\n",
    "from keras.layers import Dense, LSTM, BatchNormalization\n",
    "from keras.optimizers import Adam\n",
    "from keras.callbacks import ReduceLROnPlateau, EarlyStopping\n",
    "from keras.regularizers import l2\n",
    "from time import time"
   ]
  },
  {
   "cell_type": "code",
   "execution_count": null,
   "id": "22603f53-b266-4829-a437-872703baeb9b",
   "metadata": {},
   "outputs": [],
   "source": [
    "# 1. Make a list of CONSTANTS for modelling:\n",
    "LAYERS = [30, 30, 30, 1]                # number of units in hidden and output layers (possible tune)\n",
    "M_TRAIN = X_train.shape[0]           # number of training examples (2D)\n",
    "M_VAL = X_val.shape[0]           # number of training examples (2D)\n",
    "M_TEST = X_test.shape[0]             # number of test examples (2D),full=X_test.shape[0]\n",
    "N = X_train.shape[2]                 # number of features\n",
    "BATCH = M_TRAIN                          # batch size\n",
    "EPOCH = 5                           # number of epochs (possible tune)\n",
    "LR = 0.05                            # learning rate of the gradient descent (possible tune)\n",
    "LAMBD = 0.03                         # lambda in L2 regularizaion (possible tune)\n",
    "DP = 0.0                             # dropout rate (possible tune)\n",
    "RDP = 0.0                            # recurrent dropout rate (possible tune)\n",
    "print(f'layers={LAYERS}, train_examples={M_TRAIN}, test_examples={M_TEST}')\n",
    "print(f'batch = {BATCH}, timesteps = {T}, features = {N}, epochs = {EPOCH}')\n",
    "print(f'lr = {LR}, lambda = {LAMBD}, dropout = {DP}, recurr_dropout = {RDP}')"
   ]
  }
 ],
 "metadata": {
  "kernelspec": {
   "display_name": "Python 3 (ipykernel)",
   "language": "python",
   "name": "python3"
  },
  "language_info": {
   "codemirror_mode": {
    "name": "ipython",
    "version": 3
   },
   "file_extension": ".py",
   "mimetype": "text/x-python",
   "name": "python",
   "nbconvert_exporter": "python",
   "pygments_lexer": "ipython3",
   "version": "3.9.12"
  }
 },
 "nbformat": 4,
 "nbformat_minor": 5
}
