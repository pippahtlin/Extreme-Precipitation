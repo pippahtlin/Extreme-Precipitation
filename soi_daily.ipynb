{
  "cells": [
    {
      "cell_type": "code",
      "execution_count": 1,
      "id": "fb5601fe",
      "metadata": {
        "id": "fb5601fe"
      },
      "outputs": [],
      "source": [
        "import numpy as np\n",
        "import pandas as pd\n",
        "import matplotlib.pyplot as plt\n",
        "from matplotlib.ticker import MaxNLocator"
      ]
    },
    {
      "cell_type": "code",
      "execution_count": 2,
      "id": "406c1bd2",
      "metadata": {
        "id": "406c1bd2"
      },
      "outputs": [],
      "source": [
        "df = pd.read_csv(\"https://raw.githubusercontent.com/pippahtlin/Extreme-Precipitation/main/data/precipitation_soi\",index_col = \"date\")\n",
        "df.index = pd.to_datetime(df.index)"
      ]
    },
    {
      "cell_type": "markdown",
      "source": [
        "#### add a new feature that includes the previous 30 days"
      ],
      "metadata": {
        "id": "vHzJSQHVWXGy"
      },
      "id": "vHzJSQHVWXGy"
    },
    {
      "cell_type": "code",
      "source": [
        "df['binary_lagged30'] = None\n",
        "df['daily_lagged30'] = None\n",
        "\n",
        "for date in df.index:\n",
        "    start_date = date - pd.Timedelta(days=30)\n",
        "    binary_30_days = df.loc[start_date:date - pd.Timedelta(days=1), 'binary rain'].tolist()\n",
        "    daily_30_days = df.loc[start_date:date - pd.Timedelta(days=1), 'daily rain'].tolist()\n",
        "\n",
        "    if len(binary_30_days) < 30:\n",
        "        binary_30_days = [0] * (30 - len(binary_30_days)) + binary_30_days\n",
        "\n",
        "    if len(daily_30_days) < 30:\n",
        "        daily_30_days = [0] * (30 - len(daily_30_days)) + daily_30_days\n",
        "\n",
        "    df.at[date, 'binary_lagged30'] = binary_30_days\n",
        "    df.at[date, 'daily_lagged30'] = daily_30_days\n",
        "\n",
        "df['binary_lagged30_mean'] = df['binary_lagged30'].apply(lambda x: np.mean(x))"
      ],
      "metadata": {
        "id": "D08KOseiPmia"
      },
      "id": "D08KOseiPmia",
      "execution_count": 3,
      "outputs": []
    },
    {
      "cell_type": "code",
      "source": [
        "df"
      ],
      "metadata": {
        "id": "_P0VH1OgbRK2",
        "outputId": "3b8963ff-d43a-4e39-ca37-1acdcb772500",
        "colab": {
          "base_uri": "https://localhost:8080/",
          "height": 646
        }
      },
      "id": "_P0VH1OgbRK2",
      "execution_count": 4,
      "outputs": [
        {
          "output_type": "execute_result",
          "data": {
            "text/plain": [
              "            year  month  day  daily rain  binary rain  soi  \\\n",
              "date                                                         \n",
              "1899-10-11  1899     10   11    3.048000            0   -1   \n",
              "1899-10-12  1899     10   12    2.032000            0   -1   \n",
              "1899-10-13  1899     10   13   33.020000            1   -1   \n",
              "1899-10-14  1899     10   14    0.508000            0   -1   \n",
              "1899-10-15  1899     10   15    0.000000            0   -1   \n",
              "...          ...    ...  ...         ...          ...  ...   \n",
              "2022-12-27  2022     12   27    0.000000            0    1   \n",
              "2022-12-28  2022     12   28   22.859999            0    1   \n",
              "2022-12-29  2022     12   29    0.000000            0    1   \n",
              "2022-12-30  2022     12   30    1.270000            0    1   \n",
              "2022-12-31  2022     12   31    4.826000            0    1   \n",
              "\n",
              "                                              binary_lagged30  \\\n",
              "date                                                            \n",
              "1899-10-11  [0, 0, 0, 0, 0, 0, 0, 0, 0, 0, 0, 0, 0, 0, 0, ...   \n",
              "1899-10-12  [0, 0, 0, 0, 0, 0, 0, 0, 0, 0, 0, 0, 0, 0, 0, ...   \n",
              "1899-10-13  [0, 0, 0, 0, 0, 0, 0, 0, 0, 0, 0, 0, 0, 0, 0, ...   \n",
              "1899-10-14  [0, 0, 0, 0, 0, 0, 0, 0, 0, 0, 0, 0, 0, 0, 0, ...   \n",
              "1899-10-15  [0, 0, 0, 0, 0, 0, 0, 0, 0, 0, 0, 0, 0, 0, 0, ...   \n",
              "...                                                       ...   \n",
              "2022-12-27  [0, 0, 0, 0, 0, 0, 0, 0, 0, 0, 0, 0, 0, 0, 0, ...   \n",
              "2022-12-28  [0, 0, 0, 0, 0, 0, 0, 0, 0, 0, 0, 0, 0, 0, 0, ...   \n",
              "2022-12-29  [0, 0, 0, 0, 0, 0, 0, 0, 0, 0, 0, 0, 0, 0, 0, ...   \n",
              "2022-12-30  [0, 0, 0, 0, 0, 0, 0, 0, 0, 0, 0, 0, 0, 0, 0, ...   \n",
              "2022-12-31  [0, 0, 0, 0, 0, 0, 0, 0, 0, 0, 0, 0, 0, 0, 0, ...   \n",
              "\n",
              "                                               daily_lagged30  \\\n",
              "date                                                            \n",
              "1899-10-11  [0, 0, 0, 0, 0, 0, 0, 0, 0, 0, 0, 0, 0, 0, 0, ...   \n",
              "1899-10-12  [0, 0, 0, 0, 0, 0, 0, 0, 0, 0, 0, 0, 0, 0, 0, ...   \n",
              "1899-10-13  [0, 0, 0, 0, 0, 0, 0, 0, 0, 0, 0, 0, 0, 0, 0, ...   \n",
              "1899-10-14  [0, 0, 0, 0, 0, 0, 0, 0, 0, 0, 0, 0, 0, 0, 0, ...   \n",
              "1899-10-15  [0, 0, 0, 0, 0, 0, 0, 0, 0, 0, 0, 0, 0, 0, 0, ...   \n",
              "...                                                       ...   \n",
              "2022-12-27  [0.0, 0.0, 0.0, 0.0, 1.269999971613288, 14.477...   \n",
              "2022-12-28  [0.0, 0.0, 0.0, 1.269999971613288, 14.47799967...   \n",
              "2022-12-29  [0.0, 0.0, 1.269999971613288, 14.4779996763914...   \n",
              "2022-12-30  [0.0, 1.269999971613288, 14.477999676391482, 1...   \n",
              "2022-12-31  [1.269999971613288, 14.477999676391482, 19.303...   \n",
              "\n",
              "            binary_lagged30_mean  \n",
              "date                              \n",
              "1899-10-11              0.000000  \n",
              "1899-10-12              0.000000  \n",
              "1899-10-13              0.000000  \n",
              "1899-10-14              0.033333  \n",
              "1899-10-15              0.033333  \n",
              "...                          ...  \n",
              "2022-12-27              0.000000  \n",
              "2022-12-28              0.000000  \n",
              "2022-12-29              0.000000  \n",
              "2022-12-30              0.000000  \n",
              "2022-12-31              0.000000  \n",
              "\n",
              "[45007 rows x 9 columns]"
            ],
            "text/html": [
              "\n",
              "  <div id=\"df-6edec1b9-85fa-4aa7-b5c6-697f40c84fce\" class=\"colab-df-container\">\n",
              "    <div>\n",
              "<style scoped>\n",
              "    .dataframe tbody tr th:only-of-type {\n",
              "        vertical-align: middle;\n",
              "    }\n",
              "\n",
              "    .dataframe tbody tr th {\n",
              "        vertical-align: top;\n",
              "    }\n",
              "\n",
              "    .dataframe thead th {\n",
              "        text-align: right;\n",
              "    }\n",
              "</style>\n",
              "<table border=\"1\" class=\"dataframe\">\n",
              "  <thead>\n",
              "    <tr style=\"text-align: right;\">\n",
              "      <th></th>\n",
              "      <th>year</th>\n",
              "      <th>month</th>\n",
              "      <th>day</th>\n",
              "      <th>daily rain</th>\n",
              "      <th>binary rain</th>\n",
              "      <th>soi</th>\n",
              "      <th>binary_lagged30</th>\n",
              "      <th>daily_lagged30</th>\n",
              "      <th>binary_lagged30_mean</th>\n",
              "    </tr>\n",
              "    <tr>\n",
              "      <th>date</th>\n",
              "      <th></th>\n",
              "      <th></th>\n",
              "      <th></th>\n",
              "      <th></th>\n",
              "      <th></th>\n",
              "      <th></th>\n",
              "      <th></th>\n",
              "      <th></th>\n",
              "      <th></th>\n",
              "    </tr>\n",
              "  </thead>\n",
              "  <tbody>\n",
              "    <tr>\n",
              "      <th>1899-10-11</th>\n",
              "      <td>1899</td>\n",
              "      <td>10</td>\n",
              "      <td>11</td>\n",
              "      <td>3.048000</td>\n",
              "      <td>0</td>\n",
              "      <td>-1</td>\n",
              "      <td>[0, 0, 0, 0, 0, 0, 0, 0, 0, 0, 0, 0, 0, 0, 0, ...</td>\n",
              "      <td>[0, 0, 0, 0, 0, 0, 0, 0, 0, 0, 0, 0, 0, 0, 0, ...</td>\n",
              "      <td>0.000000</td>\n",
              "    </tr>\n",
              "    <tr>\n",
              "      <th>1899-10-12</th>\n",
              "      <td>1899</td>\n",
              "      <td>10</td>\n",
              "      <td>12</td>\n",
              "      <td>2.032000</td>\n",
              "      <td>0</td>\n",
              "      <td>-1</td>\n",
              "      <td>[0, 0, 0, 0, 0, 0, 0, 0, 0, 0, 0, 0, 0, 0, 0, ...</td>\n",
              "      <td>[0, 0, 0, 0, 0, 0, 0, 0, 0, 0, 0, 0, 0, 0, 0, ...</td>\n",
              "      <td>0.000000</td>\n",
              "    </tr>\n",
              "    <tr>\n",
              "      <th>1899-10-13</th>\n",
              "      <td>1899</td>\n",
              "      <td>10</td>\n",
              "      <td>13</td>\n",
              "      <td>33.020000</td>\n",
              "      <td>1</td>\n",
              "      <td>-1</td>\n",
              "      <td>[0, 0, 0, 0, 0, 0, 0, 0, 0, 0, 0, 0, 0, 0, 0, ...</td>\n",
              "      <td>[0, 0, 0, 0, 0, 0, 0, 0, 0, 0, 0, 0, 0, 0, 0, ...</td>\n",
              "      <td>0.000000</td>\n",
              "    </tr>\n",
              "    <tr>\n",
              "      <th>1899-10-14</th>\n",
              "      <td>1899</td>\n",
              "      <td>10</td>\n",
              "      <td>14</td>\n",
              "      <td>0.508000</td>\n",
              "      <td>0</td>\n",
              "      <td>-1</td>\n",
              "      <td>[0, 0, 0, 0, 0, 0, 0, 0, 0, 0, 0, 0, 0, 0, 0, ...</td>\n",
              "      <td>[0, 0, 0, 0, 0, 0, 0, 0, 0, 0, 0, 0, 0, 0, 0, ...</td>\n",
              "      <td>0.033333</td>\n",
              "    </tr>\n",
              "    <tr>\n",
              "      <th>1899-10-15</th>\n",
              "      <td>1899</td>\n",
              "      <td>10</td>\n",
              "      <td>15</td>\n",
              "      <td>0.000000</td>\n",
              "      <td>0</td>\n",
              "      <td>-1</td>\n",
              "      <td>[0, 0, 0, 0, 0, 0, 0, 0, 0, 0, 0, 0, 0, 0, 0, ...</td>\n",
              "      <td>[0, 0, 0, 0, 0, 0, 0, 0, 0, 0, 0, 0, 0, 0, 0, ...</td>\n",
              "      <td>0.033333</td>\n",
              "    </tr>\n",
              "    <tr>\n",
              "      <th>...</th>\n",
              "      <td>...</td>\n",
              "      <td>...</td>\n",
              "      <td>...</td>\n",
              "      <td>...</td>\n",
              "      <td>...</td>\n",
              "      <td>...</td>\n",
              "      <td>...</td>\n",
              "      <td>...</td>\n",
              "      <td>...</td>\n",
              "    </tr>\n",
              "    <tr>\n",
              "      <th>2022-12-27</th>\n",
              "      <td>2022</td>\n",
              "      <td>12</td>\n",
              "      <td>27</td>\n",
              "      <td>0.000000</td>\n",
              "      <td>0</td>\n",
              "      <td>1</td>\n",
              "      <td>[0, 0, 0, 0, 0, 0, 0, 0, 0, 0, 0, 0, 0, 0, 0, ...</td>\n",
              "      <td>[0.0, 0.0, 0.0, 0.0, 1.269999971613288, 14.477...</td>\n",
              "      <td>0.000000</td>\n",
              "    </tr>\n",
              "    <tr>\n",
              "      <th>2022-12-28</th>\n",
              "      <td>2022</td>\n",
              "      <td>12</td>\n",
              "      <td>28</td>\n",
              "      <td>22.859999</td>\n",
              "      <td>0</td>\n",
              "      <td>1</td>\n",
              "      <td>[0, 0, 0, 0, 0, 0, 0, 0, 0, 0, 0, 0, 0, 0, 0, ...</td>\n",
              "      <td>[0.0, 0.0, 0.0, 1.269999971613288, 14.47799967...</td>\n",
              "      <td>0.000000</td>\n",
              "    </tr>\n",
              "    <tr>\n",
              "      <th>2022-12-29</th>\n",
              "      <td>2022</td>\n",
              "      <td>12</td>\n",
              "      <td>29</td>\n",
              "      <td>0.000000</td>\n",
              "      <td>0</td>\n",
              "      <td>1</td>\n",
              "      <td>[0, 0, 0, 0, 0, 0, 0, 0, 0, 0, 0, 0, 0, 0, 0, ...</td>\n",
              "      <td>[0.0, 0.0, 1.269999971613288, 14.4779996763914...</td>\n",
              "      <td>0.000000</td>\n",
              "    </tr>\n",
              "    <tr>\n",
              "      <th>2022-12-30</th>\n",
              "      <td>2022</td>\n",
              "      <td>12</td>\n",
              "      <td>30</td>\n",
              "      <td>1.270000</td>\n",
              "      <td>0</td>\n",
              "      <td>1</td>\n",
              "      <td>[0, 0, 0, 0, 0, 0, 0, 0, 0, 0, 0, 0, 0, 0, 0, ...</td>\n",
              "      <td>[0.0, 1.269999971613288, 14.477999676391482, 1...</td>\n",
              "      <td>0.000000</td>\n",
              "    </tr>\n",
              "    <tr>\n",
              "      <th>2022-12-31</th>\n",
              "      <td>2022</td>\n",
              "      <td>12</td>\n",
              "      <td>31</td>\n",
              "      <td>4.826000</td>\n",
              "      <td>0</td>\n",
              "      <td>1</td>\n",
              "      <td>[0, 0, 0, 0, 0, 0, 0, 0, 0, 0, 0, 0, 0, 0, 0, ...</td>\n",
              "      <td>[1.269999971613288, 14.477999676391482, 19.303...</td>\n",
              "      <td>0.000000</td>\n",
              "    </tr>\n",
              "  </tbody>\n",
              "</table>\n",
              "<p>45007 rows × 9 columns</p>\n",
              "</div>\n",
              "    <div class=\"colab-df-buttons\">\n",
              "\n",
              "  <div class=\"colab-df-container\">\n",
              "    <button class=\"colab-df-convert\" onclick=\"convertToInteractive('df-6edec1b9-85fa-4aa7-b5c6-697f40c84fce')\"\n",
              "            title=\"Convert this dataframe to an interactive table.\"\n",
              "            style=\"display:none;\">\n",
              "\n",
              "  <svg xmlns=\"http://www.w3.org/2000/svg\" height=\"24px\" viewBox=\"0 -960 960 960\">\n",
              "    <path d=\"M120-120v-720h720v720H120Zm60-500h600v-160H180v160Zm220 220h160v-160H400v160Zm0 220h160v-160H400v160ZM180-400h160v-160H180v160Zm440 0h160v-160H620v160ZM180-180h160v-160H180v160Zm440 0h160v-160H620v160Z\"/>\n",
              "  </svg>\n",
              "    </button>\n",
              "\n",
              "  <style>\n",
              "    .colab-df-container {\n",
              "      display:flex;\n",
              "      gap: 12px;\n",
              "    }\n",
              "\n",
              "    .colab-df-convert {\n",
              "      background-color: #E8F0FE;\n",
              "      border: none;\n",
              "      border-radius: 50%;\n",
              "      cursor: pointer;\n",
              "      display: none;\n",
              "      fill: #1967D2;\n",
              "      height: 32px;\n",
              "      padding: 0 0 0 0;\n",
              "      width: 32px;\n",
              "    }\n",
              "\n",
              "    .colab-df-convert:hover {\n",
              "      background-color: #E2EBFA;\n",
              "      box-shadow: 0px 1px 2px rgba(60, 64, 67, 0.3), 0px 1px 3px 1px rgba(60, 64, 67, 0.15);\n",
              "      fill: #174EA6;\n",
              "    }\n",
              "\n",
              "    .colab-df-buttons div {\n",
              "      margin-bottom: 4px;\n",
              "    }\n",
              "\n",
              "    [theme=dark] .colab-df-convert {\n",
              "      background-color: #3B4455;\n",
              "      fill: #D2E3FC;\n",
              "    }\n",
              "\n",
              "    [theme=dark] .colab-df-convert:hover {\n",
              "      background-color: #434B5C;\n",
              "      box-shadow: 0px 1px 3px 1px rgba(0, 0, 0, 0.15);\n",
              "      filter: drop-shadow(0px 1px 2px rgba(0, 0, 0, 0.3));\n",
              "      fill: #FFFFFF;\n",
              "    }\n",
              "  </style>\n",
              "\n",
              "    <script>\n",
              "      const buttonEl =\n",
              "        document.querySelector('#df-6edec1b9-85fa-4aa7-b5c6-697f40c84fce button.colab-df-convert');\n",
              "      buttonEl.style.display =\n",
              "        google.colab.kernel.accessAllowed ? 'block' : 'none';\n",
              "\n",
              "      async function convertToInteractive(key) {\n",
              "        const element = document.querySelector('#df-6edec1b9-85fa-4aa7-b5c6-697f40c84fce');\n",
              "        const dataTable =\n",
              "          await google.colab.kernel.invokeFunction('convertToInteractive',\n",
              "                                                    [key], {});\n",
              "        if (!dataTable) return;\n",
              "\n",
              "        const docLinkHtml = 'Like what you see? Visit the ' +\n",
              "          '<a target=\"_blank\" href=https://colab.research.google.com/notebooks/data_table.ipynb>data table notebook</a>'\n",
              "          + ' to learn more about interactive tables.';\n",
              "        element.innerHTML = '';\n",
              "        dataTable['output_type'] = 'display_data';\n",
              "        await google.colab.output.renderOutput(dataTable, element);\n",
              "        const docLink = document.createElement('div');\n",
              "        docLink.innerHTML = docLinkHtml;\n",
              "        element.appendChild(docLink);\n",
              "      }\n",
              "    </script>\n",
              "  </div>\n",
              "\n",
              "\n",
              "<div id=\"df-11088506-16a7-4a08-95b1-6b7c7995910a\">\n",
              "  <button class=\"colab-df-quickchart\" onclick=\"quickchart('df-11088506-16a7-4a08-95b1-6b7c7995910a')\"\n",
              "            title=\"Suggest charts\"\n",
              "            style=\"display:none;\">\n",
              "\n",
              "<svg xmlns=\"http://www.w3.org/2000/svg\" height=\"24px\"viewBox=\"0 0 24 24\"\n",
              "     width=\"24px\">\n",
              "    <g>\n",
              "        <path d=\"M19 3H5c-1.1 0-2 .9-2 2v14c0 1.1.9 2 2 2h14c1.1 0 2-.9 2-2V5c0-1.1-.9-2-2-2zM9 17H7v-7h2v7zm4 0h-2V7h2v10zm4 0h-2v-4h2v4z\"/>\n",
              "    </g>\n",
              "</svg>\n",
              "  </button>\n",
              "\n",
              "<style>\n",
              "  .colab-df-quickchart {\n",
              "      --bg-color: #E8F0FE;\n",
              "      --fill-color: #1967D2;\n",
              "      --hover-bg-color: #E2EBFA;\n",
              "      --hover-fill-color: #174EA6;\n",
              "      --disabled-fill-color: #AAA;\n",
              "      --disabled-bg-color: #DDD;\n",
              "  }\n",
              "\n",
              "  [theme=dark] .colab-df-quickchart {\n",
              "      --bg-color: #3B4455;\n",
              "      --fill-color: #D2E3FC;\n",
              "      --hover-bg-color: #434B5C;\n",
              "      --hover-fill-color: #FFFFFF;\n",
              "      --disabled-bg-color: #3B4455;\n",
              "      --disabled-fill-color: #666;\n",
              "  }\n",
              "\n",
              "  .colab-df-quickchart {\n",
              "    background-color: var(--bg-color);\n",
              "    border: none;\n",
              "    border-radius: 50%;\n",
              "    cursor: pointer;\n",
              "    display: none;\n",
              "    fill: var(--fill-color);\n",
              "    height: 32px;\n",
              "    padding: 0;\n",
              "    width: 32px;\n",
              "  }\n",
              "\n",
              "  .colab-df-quickchart:hover {\n",
              "    background-color: var(--hover-bg-color);\n",
              "    box-shadow: 0 1px 2px rgba(60, 64, 67, 0.3), 0 1px 3px 1px rgba(60, 64, 67, 0.15);\n",
              "    fill: var(--button-hover-fill-color);\n",
              "  }\n",
              "\n",
              "  .colab-df-quickchart-complete:disabled,\n",
              "  .colab-df-quickchart-complete:disabled:hover {\n",
              "    background-color: var(--disabled-bg-color);\n",
              "    fill: var(--disabled-fill-color);\n",
              "    box-shadow: none;\n",
              "  }\n",
              "\n",
              "  .colab-df-spinner {\n",
              "    border: 2px solid var(--fill-color);\n",
              "    border-color: transparent;\n",
              "    border-bottom-color: var(--fill-color);\n",
              "    animation:\n",
              "      spin 1s steps(1) infinite;\n",
              "  }\n",
              "\n",
              "  @keyframes spin {\n",
              "    0% {\n",
              "      border-color: transparent;\n",
              "      border-bottom-color: var(--fill-color);\n",
              "      border-left-color: var(--fill-color);\n",
              "    }\n",
              "    20% {\n",
              "      border-color: transparent;\n",
              "      border-left-color: var(--fill-color);\n",
              "      border-top-color: var(--fill-color);\n",
              "    }\n",
              "    30% {\n",
              "      border-color: transparent;\n",
              "      border-left-color: var(--fill-color);\n",
              "      border-top-color: var(--fill-color);\n",
              "      border-right-color: var(--fill-color);\n",
              "    }\n",
              "    40% {\n",
              "      border-color: transparent;\n",
              "      border-right-color: var(--fill-color);\n",
              "      border-top-color: var(--fill-color);\n",
              "    }\n",
              "    60% {\n",
              "      border-color: transparent;\n",
              "      border-right-color: var(--fill-color);\n",
              "    }\n",
              "    80% {\n",
              "      border-color: transparent;\n",
              "      border-right-color: var(--fill-color);\n",
              "      border-bottom-color: var(--fill-color);\n",
              "    }\n",
              "    90% {\n",
              "      border-color: transparent;\n",
              "      border-bottom-color: var(--fill-color);\n",
              "    }\n",
              "  }\n",
              "</style>\n",
              "\n",
              "  <script>\n",
              "    async function quickchart(key) {\n",
              "      const quickchartButtonEl =\n",
              "        document.querySelector('#' + key + ' button');\n",
              "      quickchartButtonEl.disabled = true;  // To prevent multiple clicks.\n",
              "      quickchartButtonEl.classList.add('colab-df-spinner');\n",
              "      try {\n",
              "        const charts = await google.colab.kernel.invokeFunction(\n",
              "            'suggestCharts', [key], {});\n",
              "      } catch (error) {\n",
              "        console.error('Error during call to suggestCharts:', error);\n",
              "      }\n",
              "      quickchartButtonEl.classList.remove('colab-df-spinner');\n",
              "      quickchartButtonEl.classList.add('colab-df-quickchart-complete');\n",
              "    }\n",
              "    (() => {\n",
              "      let quickchartButtonEl =\n",
              "        document.querySelector('#df-11088506-16a7-4a08-95b1-6b7c7995910a button');\n",
              "      quickchartButtonEl.style.display =\n",
              "        google.colab.kernel.accessAllowed ? 'block' : 'none';\n",
              "    })();\n",
              "  </script>\n",
              "</div>\n",
              "\n",
              "  <div id=\"id_77643dc6-c0e7-4740-8c5d-fa4e28f40a21\">\n",
              "    <style>\n",
              "      .colab-df-generate {\n",
              "        background-color: #E8F0FE;\n",
              "        border: none;\n",
              "        border-radius: 50%;\n",
              "        cursor: pointer;\n",
              "        display: none;\n",
              "        fill: #1967D2;\n",
              "        height: 32px;\n",
              "        padding: 0 0 0 0;\n",
              "        width: 32px;\n",
              "      }\n",
              "\n",
              "      .colab-df-generate:hover {\n",
              "        background-color: #E2EBFA;\n",
              "        box-shadow: 0px 1px 2px rgba(60, 64, 67, 0.3), 0px 1px 3px 1px rgba(60, 64, 67, 0.15);\n",
              "        fill: #174EA6;\n",
              "      }\n",
              "\n",
              "      [theme=dark] .colab-df-generate {\n",
              "        background-color: #3B4455;\n",
              "        fill: #D2E3FC;\n",
              "      }\n",
              "\n",
              "      [theme=dark] .colab-df-generate:hover {\n",
              "        background-color: #434B5C;\n",
              "        box-shadow: 0px 1px 3px 1px rgba(0, 0, 0, 0.15);\n",
              "        filter: drop-shadow(0px 1px 2px rgba(0, 0, 0, 0.3));\n",
              "        fill: #FFFFFF;\n",
              "      }\n",
              "    </style>\n",
              "    <button class=\"colab-df-generate\" onclick=\"generateWithVariable('df')\"\n",
              "            title=\"Generate code using this dataframe.\"\n",
              "            style=\"display:none;\">\n",
              "\n",
              "  <svg xmlns=\"http://www.w3.org/2000/svg\" height=\"24px\"viewBox=\"0 0 24 24\"\n",
              "       width=\"24px\">\n",
              "    <path d=\"M7,19H8.4L18.45,9,17,7.55,7,17.6ZM5,21V16.75L18.45,3.32a2,2,0,0,1,2.83,0l1.4,1.43a1.91,1.91,0,0,1,.58,1.4,1.91,1.91,0,0,1-.58,1.4L9.25,21ZM18.45,9,17,7.55Zm-12,3A5.31,5.31,0,0,0,4.9,8.1,5.31,5.31,0,0,0,1,6.5,5.31,5.31,0,0,0,4.9,4.9,5.31,5.31,0,0,0,6.5,1,5.31,5.31,0,0,0,8.1,4.9,5.31,5.31,0,0,0,12,6.5,5.46,5.46,0,0,0,6.5,12Z\"/>\n",
              "  </svg>\n",
              "    </button>\n",
              "    <script>\n",
              "      (() => {\n",
              "      const buttonEl =\n",
              "        document.querySelector('#id_77643dc6-c0e7-4740-8c5d-fa4e28f40a21 button.colab-df-generate');\n",
              "      buttonEl.style.display =\n",
              "        google.colab.kernel.accessAllowed ? 'block' : 'none';\n",
              "\n",
              "      buttonEl.onclick = () => {\n",
              "        google.colab.notebook.generateWithVariable('df');\n",
              "      }\n",
              "      })();\n",
              "    </script>\n",
              "  </div>\n",
              "\n",
              "    </div>\n",
              "  </div>\n"
            ],
            "application/vnd.google.colaboratory.intrinsic+json": {
              "type": "dataframe",
              "variable_name": "df",
              "summary": "{\n  \"name\": \"df\",\n  \"rows\": 45007,\n  \"fields\": [\n    {\n      \"column\": \"date\",\n      \"properties\": {\n        \"dtype\": \"date\",\n        \"min\": \"1899-10-11 00:00:00\",\n        \"max\": \"2022-12-31 00:00:00\",\n        \"num_unique_values\": 45007,\n        \"samples\": [\n          \"1971-09-10 00:00:00\",\n          \"1973-06-28 00:00:00\",\n          \"1993-11-30 00:00:00\"\n        ],\n        \"semantic_type\": \"\",\n        \"description\": \"\"\n      }\n    },\n    {\n      \"column\": \"year\",\n      \"properties\": {\n        \"dtype\": \"number\",\n        \"std\": 35,\n        \"min\": 1899,\n        \"max\": 2022,\n        \"num_unique_values\": 124,\n        \"samples\": [\n          1917,\n          1941,\n          1935\n        ],\n        \"semantic_type\": \"\",\n        \"description\": \"\"\n      }\n    },\n    {\n      \"column\": \"month\",\n      \"properties\": {\n        \"dtype\": \"number\",\n        \"std\": 3,\n        \"min\": 1,\n        \"max\": 12,\n        \"num_unique_values\": 12,\n        \"samples\": [\n          8,\n          7,\n          10\n        ],\n        \"semantic_type\": \"\",\n        \"description\": \"\"\n      }\n    },\n    {\n      \"column\": \"day\",\n      \"properties\": {\n        \"dtype\": \"number\",\n        \"std\": 8,\n        \"min\": 1,\n        \"max\": 31,\n        \"num_unique_values\": 31,\n        \"samples\": [\n          7,\n          26,\n          3\n        ],\n        \"semantic_type\": \"\",\n        \"description\": \"\"\n      }\n    },\n    {\n      \"column\": \"daily rain\",\n      \"properties\": {\n        \"dtype\": \"number\",\n        \"std\": 6.83386636939664,\n        \"min\": 0.0,\n        \"max\": 176.53,\n        \"num_unique_values\": 497,\n        \"samples\": [\n          6.096000000000002,\n          11.938,\n          75.184\n        ],\n        \"semantic_type\": \"\",\n        \"description\": \"\"\n      }\n    },\n    {\n      \"column\": \"binary rain\",\n      \"properties\": {\n        \"dtype\": \"number\",\n        \"std\": 0,\n        \"min\": 0,\n        \"max\": 1,\n        \"num_unique_values\": 2,\n        \"samples\": [\n          1,\n          0\n        ],\n        \"semantic_type\": \"\",\n        \"description\": \"\"\n      }\n    },\n    {\n      \"column\": \"soi\",\n      \"properties\": {\n        \"dtype\": \"number\",\n        \"std\": 0,\n        \"min\": -1,\n        \"max\": 1,\n        \"num_unique_values\": 3,\n        \"samples\": [\n          -1,\n          1\n        ],\n        \"semantic_type\": \"\",\n        \"description\": \"\"\n      }\n    },\n    {\n      \"column\": \"binary_lagged30\",\n      \"properties\": {\n        \"dtype\": \"object\",\n        \"semantic_type\": \"\",\n        \"description\": \"\"\n      }\n    },\n    {\n      \"column\": \"daily_lagged30\",\n      \"properties\": {\n        \"dtype\": \"object\",\n        \"semantic_type\": \"\",\n        \"description\": \"\"\n      }\n    },\n    {\n      \"column\": \"binary_lagged30_mean\",\n      \"properties\": {\n        \"dtype\": \"number\",\n        \"std\": 0.014814403375156686,\n        \"min\": 0.0,\n        \"max\": 0.13333333333333333,\n        \"num_unique_values\": 5,\n        \"samples\": [\n          0.03333333333333333,\n          0.13333333333333333\n        ],\n        \"semantic_type\": \"\",\n        \"description\": \"\"\n      }\n    }\n  ]\n}"
            }
          },
          "metadata": {},
          "execution_count": 4
        }
      ]
    },
    {
      "cell_type": "markdown",
      "id": "5f88c654",
      "metadata": {
        "id": "5f88c654"
      },
      "source": [
        "<br>\n",
        "\n",
        "## 1. EDA"
      ]
    },
    {
      "cell_type": "code",
      "execution_count": null,
      "id": "c76ba37b",
      "metadata": {
        "id": "c76ba37b"
      },
      "outputs": [],
      "source": [
        "plt.figure(figsize=(14, 7))\n",
        "plt.xticks(rotation=45)\n",
        "plt.gca().xaxis.set_major_locator(MaxNLocator(nbins=30))\n",
        "\n",
        "plt.plot(df.index,df['daily rain'],label = 'Daily Rain')\n",
        "plt.title('Daily Rain Over Time')\n",
        "plt.xlabel('Date')\n",
        "plt.ylabel('Rainfall (mm)')\n",
        "plt.tight_layout()\n",
        "plt.show()"
      ]
    },
    {
      "cell_type": "code",
      "execution_count": 6,
      "id": "d23574f8",
      "metadata": {
        "colab": {
          "base_uri": "https://localhost:8080/",
          "height": 626
        },
        "id": "d23574f8",
        "outputId": "9f287df5-a309-412f-c2af-e230e4126479",
        "scrolled": true
      },
      "outputs": [
        {
          "output_type": "display_data",
          "data": {
            "text/plain": [
              "<Figure size 1500x700 with 1 Axes>"
            ],
            "image/png": "[encoded data removed]"
          },
          "metadata": {}
        }
      ],
      "source": [
        "count = df[(df['soi'] == -1) & (df['binary rain'] == 1)].year.count()\n",
        "plt.figure(figsize=(15, 7))\n",
        "plt.xticks(rotation=45)\n",
        "plt.gca().xaxis.set_major_locator(MaxNLocator(nbins=40))\n",
        "\n",
        "plt.plot(df[df['soi'] == -1].index, df[df['soi'] == -1]['binary rain'],'o',label = 'Extreme Precipitation')\n",
        "plt.suptitle('Extreme Precipitation with positive SOI', fontsize=15)\n",
        "plt.title(f'Extreme count: {count}', fontsize=10)\n",
        "plt.xlabel('Date')\n",
        "plt.ylabel('Rainfall (mm)')\n",
        "plt.tight_layout()\n",
        "plt.show()"
      ]
    },
    {
      "cell_type": "code",
      "execution_count": 7,
      "id": "42dd8a48",
      "metadata": {
        "colab": {
          "base_uri": "https://localhost:8080/",
          "height": 626
        },
        "id": "42dd8a48",
        "outputId": "814c2d03-4c4c-4a0f-90fb-4f48a720e0d2"
      },
      "outputs": [
        {
          "output_type": "display_data",
          "data": {
            "text/plain": [
              "<Figure size 1500x700 with 1 Axes>"
            ],
            "image/png": "[encoded data removed]"
          },
          "metadata": {}
        }
      ],
      "source": [
        "count = df[(df['soi'] == 1) & (df['binary rain'] == 1)].year.count()\n",
        "plt.figure(figsize=(15, 7))\n",
        "plt.xticks(rotation=45)\n",
        "plt.gca().xaxis.set_major_locator(MaxNLocator(nbins=40))\n",
        "\n",
        "plt.plot(df[df['soi'] == 1].index, df[df['soi'] == 1]['binary rain'],'o',label = 'Extreme Precipitation')\n",
        "plt.suptitle('Extreme Precipitation with positive SOI', fontsize=15)\n",
        "plt.title(f'Extreme count: {count}', fontsize=10)\n",
        "plt.xlabel('Date')\n",
        "plt.ylabel('Rainfall (mm)')\n",
        "plt.tight_layout()\n",
        "plt.show()"
      ]
    },
    {
      "cell_type": "code",
      "execution_count": 8,
      "id": "7020916b",
      "metadata": {
        "colab": {
          "base_uri": "https://localhost:8080/",
          "height": 471
        },
        "id": "7020916b",
        "outputId": "ebf0778e-79a9-420f-8637-7f3f4b3e2722"
      },
      "outputs": [
        {
          "output_type": "display_data",
          "data": {
            "text/plain": [
              "<Figure size 2000x700 with 1 Axes>"
            ],
            "image/png": "[encoded data removed]"
          },
          "metadata": {}
        }
      ],
      "source": [
        "plt.figure(figsize=(20, 7))\n",
        "plt.xticks(rotation=45)\n",
        "plt.gca().xaxis.set_major_locator(MaxNLocator(nbins=40))\n",
        "\n",
        "plt.plot(df.index, df['binary rain'], 'o', label = 'Extreme Precipitation')\n",
        "plt.title('Extreme Precipitation over Time')\n",
        "plt.xlabel('Date')\n",
        "plt.ylabel('Rainfall (mm)')\n",
        "plt.tight_layout()\n",
        "plt.show()"
      ]
    },
    {
      "cell_type": "markdown",
      "source": [
        "Need to address class imbalnace:"
      ],
      "metadata": {
        "id": "gtoxl6QiL7Ml"
      },
      "id": "gtoxl6QiL7Ml"
    },
    {
      "cell_type": "code",
      "execution_count": 9,
      "id": "ounopVTqJbOY",
      "metadata": {
        "colab": {
          "base_uri": "https://localhost:8080/"
        },
        "id": "ounopVTqJbOY",
        "outputId": "6306fb75-d6c9-4a95-d33c-0a197e502bd7"
      },
      "outputs": [
        {
          "output_type": "stream",
          "name": "stdout",
          "text": [
            "Proportion of extreme precpiptation: 0.0050436598751305356\n"
          ]
        }
      ],
      "source": [
        "pos_prop = df['binary rain'].sum()/ len(df['binary rain'])\n",
        "print(f'Proportion of extreme precpiptation: {pos_prop}')"
      ]
    },
    {
      "cell_type": "markdown",
      "id": "055c49c5",
      "metadata": {
        "id": "055c49c5"
      },
      "source": [
        "<br>\n",
        "\n",
        "## 2. Split Data\n",
        "Training set: 60% | Validation set: 20% | Testing set: 20%"
      ]
    },
    {
      "cell_type": "code",
      "execution_count": 10,
      "id": "213c74f1",
      "metadata": {
        "id": "213c74f1"
      },
      "outputs": [],
      "source": [
        "# Calculate indices for splitting\n",
        "total_rows = len(df)\n",
        "train_end = int(total_rows * 0.6)\n",
        "validation_end = train_end + int(total_rows * 0.2)\n",
        "\n",
        "# Using iloc for integer-location based indexing\n",
        "train_features = df[[\"soi\",\"binary_lagged30_mean\"]].iloc[:train_end]\n",
        "train_rain = df.iloc[:train_end]['binary rain']\n",
        "\n",
        "validation_features = df[[\"soi\",\"binary_lagged30_mean\"]].iloc[train_end:validation_end]\n",
        "validation_rain = df.iloc[train_end:validation_end]['binary rain']\n",
        "\n",
        "test_features = df[[\"soi\",\"binary_lagged30_mean\"]].iloc[validation_end:]\n",
        "test_rain = df.iloc[validation_end:]['binary rain']"
      ]
    },
    {
      "cell_type": "code",
      "execution_count": 11,
      "id": "376366f1",
      "metadata": {
        "colab": {
          "base_uri": "https://localhost:8080/"
        },
        "id": "376366f1",
        "outputId": "180e901b-f01a-4ac0-cf8b-7329f957b65a"
      },
      "outputs": [
        {
          "output_type": "execute_result",
          "data": {
            "text/plain": [
              "((27004, 2), (27004,), (9090, 2), (9001,), (9091, 2), (9002,))"
            ]
          },
          "metadata": {},
          "execution_count": 11
        }
      ],
      "source": [
        "T = 90 # Consider seasonality\n",
        "\n",
        "# Prepend the last T-1 observations from the training set to the validation features\n",
        "prepend_features_to_validation = train_features.iloc[-(T-1):]\n",
        "validation_features = pd.concat([prepend_features_to_validation, validation_features], axis=0)\n",
        "\n",
        "# Similarly, prepend the last T-1 observations from the validation set (including the part that was just prepended) to the test features\n",
        "prepend_features_to_test = validation_features.iloc[-(T-1):]\n",
        "test_features = pd.concat([prepend_features_to_test, test_features], axis=0)\n",
        "\n",
        "# Output the shapes of the datasets to check everything is as expected\n",
        "train_features.shape, train_rain.shape, validation_features.shape, validation_rain.shape, test_features.shape, test_rain.shape"
      ]
    },
    {
      "cell_type": "markdown",
      "id": "5bb976f3",
      "metadata": {
        "id": "5bb976f3"
      },
      "source": [
        "<br>\n",
        "\n",
        "## 3. Data Preprocessing"
      ]
    },
    {
      "cell_type": "markdown",
      "id": "0c31dfa4",
      "metadata": {
        "id": "0c31dfa4"
      },
      "source": [
        "Input data for the Keras LSTM layer has 3 dimensions: (M, T, N), where\n",
        "* M - number of examples (2D: sequences of timesteps x features),\n",
        "* T - sequence length (timesteps) and\n",
        "* N - number of features (input_dim)"
      ]
    },
    {
      "cell_type": "code",
      "execution_count": 12,
      "id": "63496bcb",
      "metadata": {
        "colab": {
          "base_uri": "https://localhost:8080/"
        },
        "id": "63496bcb",
        "outputId": "a7a80210-2b48-45bf-c2aa-f7b03d7b3537"
      },
      "outputs": [
        {
          "output_type": "stream",
          "name": "stdout",
          "text": [
            "Train data dimensions: (26915, 90, 2), (26915, 1)\n",
            "Validation data dimensions: (8912, 90, 2), (8912, 1)\n",
            "Test data dimensions: (9002, 90, 2), (9002, 1)\n"
          ]
        }
      ],
      "source": [
        "# Create sequences of T timesteps\n",
        "X_train, y_train = [], []\n",
        "for i in range(len(train_rain) - (T-1)):\n",
        "    X_train.append(train_features.iloc[i:i+T].values)\n",
        "    y_train.append(train_rain.iloc[i + (T-1)])\n",
        "\n",
        "X_train, y_train = np.array(X_train), np.array(y_train).reshape(-1,1) # Reshape to vector for model\n",
        "#X_train = X_train[:, :, np.newaxis]\n",
        "print(f'Train data dimensions: {X_train.shape}, {y_train.shape}')\n",
        "\n",
        "\n",
        "X_val, y_val = [], []\n",
        "for i in range(len(validation_rain) - (T-1)):\n",
        "    X_val.append(validation_features.iloc[i:i+T].values)\n",
        "    y_val.append(validation_rain.iloc[i + (T-1)])\n",
        "X_val, y_val = np.array(X_val), np.array(y_val).reshape(-1,1)\n",
        "#X_val = X_val[:, :, np.newaxis]\n",
        "print(f'Validation data dimensions: {X_val.shape}, {y_val.shape}')\n",
        "\n",
        "X_test, y_test = [], []\n",
        "for i in range(len(test_rain)):\n",
        "    X_test.append(test_features.iloc[i:i+T].values)\n",
        "    y_test.append(test_rain.iloc[i])\n",
        "X_test, y_test = np.array(X_test), np.array(y_test).reshape(-1,1)\n",
        "#X_test = X_test[:, :, np.newaxis]\n",
        "print(f'Test data dimensions: {X_test.shape}, {y_test.shape}')"
      ]
    },
    {
      "cell_type": "markdown",
      "id": "536fd8d6",
      "metadata": {
        "id": "536fd8d6"
      },
      "source": [
        "<br>\n",
        "\n",
        "## 4. Batch Training and Predictions"
      ]
    },
    {
      "cell_type": "code",
      "execution_count": 13,
      "id": "4b1b2eaa",
      "metadata": {
        "id": "4b1b2eaa"
      },
      "outputs": [],
      "source": [
        "# Import Keras\n",
        "import keras\n",
        "from keras.models import Sequential\n",
        "from keras.layers import Dense, LSTM, BatchNormalization\n",
        "from keras.optimizers import Adam\n",
        "from keras.callbacks import ReduceLROnPlateau, EarlyStopping\n",
        "from keras.regularizers import l2\n",
        "from time import time"
      ]
    },
    {
      "cell_type": "code",
      "execution_count": 14,
      "id": "coX-3aDhudsi",
      "metadata": {
        "colab": {
          "base_uri": "https://localhost:8080/"
        },
        "id": "coX-3aDhudsi",
        "outputId": "51396b12-3794-46a8-b2ff-fa08aca91579"
      },
      "outputs": [
        {
          "output_type": "stream",
          "name": "stdout",
          "text": [
            "layers=[30, 30, 30, 1], train_examples=26915, test_examples=9002\n",
            "batch = 26915, timesteps = 90, features = 2, epochs = 5\n",
            "lr = 0.05, lambda = 0.03, dropout = 0.0, recurr_dropout = 0.0\n"
          ]
        }
      ],
      "source": [
        "# 1. Make a list of CONSTANTS for modelling:\n",
        "LAYERS = [30, 30, 30, 1]                # number of units in hidden and output layers (possible tune)\n",
        "M_TRAIN = X_train.shape[0]           # number of training examples (2D)\n",
        "M_VAL = X_val.shape[0]           # number of training examples (2D)\n",
        "M_TEST = X_test.shape[0]             # number of test examples (2D),full=X_test.shape[0]\n",
        "N = X_train.shape[2]                 # number of features\n",
        "BATCH = M_TRAIN                          # batch size\n",
        "EPOCH = 5                           # number of epochs (possible tune)\n",
        "LR = 0.05                            # learning rate of the gradient descent (possible tune)\n",
        "LAMBD = 0.03                         # lambda in L2 regularizaion (possible tune)\n",
        "DP = 0.0                             # dropout rate (possible tune)\n",
        "RDP = 0.0                            # recurrent dropout rate (possible tune)\n",
        "print(f'layers={LAYERS}, train_examples={M_TRAIN}, test_examples={M_TEST}')\n",
        "print(f'batch = {BATCH}, timesteps = {T}, features = {N}, epochs = {EPOCH}')\n",
        "print(f'lr = {LR}, lambda = {LAMBD}, dropout = {DP}, recurr_dropout = {RDP}')\n"
      ]
    },
    {
      "cell_type": "code",
      "execution_count": 15,
      "id": "qfg9KeGQjuFs",
      "metadata": {
        "id": "qfg9KeGQjuFs"
      },
      "outputs": [],
      "source": [
        "# Address class imbalanced (assign weight to extreme days)\n",
        "from sklearn.utils.class_weight import compute_class_weight\n",
        "\n",
        "# Assuming binary classification and 0 is the majority class\n",
        "class_weights = compute_class_weight('balanced', classes=[0, 1], y=train_rain)\n",
        "class_weight_dict = {0: class_weights[0], 1: class_weights[1]}\n"
      ]
    },
    {
      "cell_type": "code",
      "execution_count": 16,
      "id": "a57w201Rdef_",
      "metadata": {
        "id": "a57w201Rdef_"
      },
      "outputs": [],
      "source": [
        "# 2. Build the Model\n",
        "model = Sequential()\n",
        "model.add(LSTM(input_shape=(T, N), units=LAYERS[0],\n",
        "               activation='tanh', recurrent_activation='hard_sigmoid',\n",
        "               kernel_regularizer=l2(LAMBD), recurrent_regularizer=l2(LAMBD),\n",
        "               dropout=DP, recurrent_dropout=RDP,\n",
        "               return_sequences=True, return_state=False,\n",
        "               stateful=False, unroll=False\n",
        "              ))\n",
        "model.add(BatchNormalization())\n",
        "model.add(LSTM(units=LAYERS[1],\n",
        "               activation='tanh', recurrent_activation='hard_sigmoid',\n",
        "               kernel_regularizer=l2(LAMBD), recurrent_regularizer=l2(LAMBD),\n",
        "               dropout=DP, recurrent_dropout=RDP,\n",
        "               return_sequences=True, return_state=False,\n",
        "               stateful=False, unroll=False\n",
        "              ))\n",
        "model.add(BatchNormalization())\n",
        "model.add(LSTM(units=LAYERS[2],\n",
        "               activation='tanh', recurrent_activation='hard_sigmoid',\n",
        "               kernel_regularizer=l2(LAMBD), recurrent_regularizer=l2(LAMBD),\n",
        "               dropout=DP, recurrent_dropout=RDP,\n",
        "               return_sequences=False, return_state=False,\n",
        "               stateful=False, unroll=False\n",
        "              ))\n",
        "model.add(BatchNormalization())\n",
        "model.add(Dense(units=LAYERS[3], activation='sigmoid'))"
      ]
    },
    {
      "cell_type": "code",
      "execution_count": 17,
      "id": "Kw5dzEtxfU_S",
      "metadata": {
        "colab": {
          "base_uri": "https://localhost:8080/"
        },
        "id": "Kw5dzEtxfU_S",
        "outputId": "bb9ba843-74b7-4a4f-ac10-b0e7685c84d3"
      },
      "outputs": [
        {
          "output_type": "stream",
          "name": "stdout",
          "text": [
            "Model: \"sequential\"\n",
            "_________________________________________________________________\n",
            " Layer (type)                Output Shape              Param #   \n",
            "=================================================================\n",
            " lstm (LSTM)                 (None, 90, 30)            3960      \n",
            "                                                                 \n",
            " batch_normalization (Batch  (None, 90, 30)            120       \n",
            " Normalization)                                                  \n",
            "                                                                 \n",
            " lstm_1 (LSTM)               (None, 90, 30)            7320      \n",
            "                                                                 \n",
            " batch_normalization_1 (Bat  (None, 90, 30)            120       \n",
            " chNormalization)                                                \n",
            "                                                                 \n",
            " lstm_2 (LSTM)               (None, 30)                7320      \n",
            "                                                                 \n",
            " batch_normalization_2 (Bat  (None, 30)                120       \n",
            " chNormalization)                                                \n",
            "                                                                 \n",
            " dense (Dense)               (None, 1)                 31        \n",
            "                                                                 \n",
            "=================================================================\n",
            "Total params: 18991 (74.18 KB)\n",
            "Trainable params: 18811 (73.48 KB)\n",
            "Non-trainable params: 180 (720.00 Byte)\n",
            "_________________________________________________________________\n",
            "None\n"
          ]
        }
      ],
      "source": [
        "# 3. Compile the model with Adam optimizer\n",
        "model.compile(loss='binary_crossentropy',\n",
        "              metrics=['accuracy','binary_accuracy',keras.metrics.Precision()],\n",
        "              optimizer=Adam(learning_rate=LR)) #\n",
        "print(model.summary())\n",
        "\n",
        "# Define a learning rate decay method:\n",
        "lr_decay = ReduceLROnPlateau(monitor='loss',\n",
        "                             patience=1, verbose=0,\n",
        "                             factor=0.25, min_lr=1e-8)\n",
        "# Define Early Stopping:\n",
        "early_stop = EarlyStopping(monitor='val_accuracy', min_delta=0,\n",
        "                           patience=2, verbose=1, mode='auto',\n",
        "                           baseline=0, restore_best_weights=True) # monitor ="
      ]
    },
    {
      "cell_type": "code",
      "execution_count": 18,
      "id": "GWmR3x_Cqgap",
      "metadata": {
        "colab": {
          "base_uri": "https://localhost:8080/"
        },
        "id": "GWmR3x_Cqgap",
        "outputId": "e0da03f7-60c0-47ce-f75a-60c13b17e377"
      },
      "outputs": [
        {
          "output_type": "stream",
          "name": "stdout",
          "text": [
            "Restoring model weights from the end of the best epoch: 1.\n",
            "Epoch 3: early stopping\n",
            "-----------------------------------------------------------------\n",
            "Training was completed in 42.48 secs\n",
            "-----------------------------------------------------------------\n"
          ]
        }
      ],
      "source": [
        "# 4. Train the model.\n",
        "# The dataset is small for NN - let's use test_data for validation -- should use cross-validation\n",
        "start = time()\n",
        "History = model.fit(X_train, y_train,\n",
        "                    epochs=EPOCH,\n",
        "                    class_weight=class_weight_dict,\n",
        "                    batch_size=BATCH,\n",
        "                    validation_data=(X_val, y_val),\n",
        "                    shuffle=True,verbose=0,\n",
        "                    callbacks=[lr_decay, early_stop])\n",
        "print('-'*65)\n",
        "print(f'Training was completed in {time() - start:.2f} secs')\n",
        "print('-'*65)"
      ]
    },
    {
      "cell_type": "code",
      "execution_count": 19,
      "id": "OhMWFYO9IooN",
      "metadata": {
        "colab": {
          "base_uri": "https://localhost:8080/"
        },
        "id": "OhMWFYO9IooN",
        "outputId": "8d652e18-bd63-45ad-d3e5-741e5b6d9b5b"
      },
      "outputs": [
        {
          "output_type": "stream",
          "name": "stdout",
          "text": [
            "-----------------------------------------------------------------\n",
            "Train Loss = 3.6359119415283203\n",
            "Train Accuracy = 99.5281%\n",
            "Train Binary Accuracy = 99.5281%\n",
            "Train Precision = 0.0000%\n",
            "-----------------------------------------------------------------\n",
            "Validation Loss = 3.6309666633605957\n",
            "Validation Accuracy = 99.3380%\n",
            "Validation Binary Accuracy = 99.3380%\n",
            "Validation Precision = 0.0000%\n"
          ]
        }
      ],
      "source": [
        "# 5. Evaluate the model:\n",
        "train_loss, train_accuracy, train_binary_accuracy, train_precision = model.evaluate(X_train, y_train, batch_size=M_TRAIN, verbose=0)\n",
        "val_loss, val_accuracy, val_binary_accuracy, val_precision = model.evaluate(X_val, y_val, batch_size=M_VAL, verbose=0)\n",
        "\n",
        "print('-' * 65)\n",
        "print(f'Train Loss = {train_loss}')\n",
        "print(f'Train Accuracy = {train_accuracy * 100:.4f}%')\n",
        "print(f'Train Binary Accuracy = {train_binary_accuracy * 100:.4f}%')\n",
        "print(f'Train Precision = {train_precision * 100:.4f}%')\n",
        "print('-' * 65)\n",
        "print(f'Validation Loss = {val_loss}')\n",
        "print(f'Validation Accuracy = {val_accuracy * 100:.4f}%')\n",
        "print(f'Validation Binary Accuracy = {val_binary_accuracy * 100:.4f}%')\n",
        "print(f'Validation Precision = {val_precision * 100:.4f}%')\n"
      ]
    }
  ],
  "metadata": {
    "colab": {
      "machine_shape": "hm",
      "provenance": []
    },
    "kernelspec": {
      "display_name": "Python 3 (ipykernel)",
      "language": "python",
      "name": "python3"
    },
    "language_info": {
      "codemirror_mode": {
        "name": "ipython",
        "version": 3
      },
      "file_extension": ".py",
      "mimetype": "text/x-python",
      "name": "python",
      "nbconvert_exporter": "python",
      "pygments_lexer": "ipython3",
      "version": "3.9.12"
    }
  },
  "nbformat": 4,
  "nbformat_minor": 5
}