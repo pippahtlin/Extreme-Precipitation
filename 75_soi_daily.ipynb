{
  "nbformat": 4,
  "nbformat_minor": 0,
  "metadata": {
    "colab": {
      "provenance": [],
      "machine_shape": "hm",
      "authorship_tag": "ABX9TyPzRhnJSLz1o3Qgb63T4el9",
      "include_colab_link": true
    },
    "kernelspec": {
      "name": "python3",
      "display_name": "Python 3"
    },
    "language_info": {
      "name": "python"
    }
  },
  "cells": [
    {
      "cell_type": "markdown",
      "metadata": {
        "id": "view-in-github",
        "colab_type": "text"
      },
      "source": [
        "<a href=\"https://colab.research.google.com/github/pippahtlin/Extreme-Precipitation/blob/main/75_soi_daily.ipynb\" target=\"_parent\"><img src=\"https://colab.research.google.com/assets/colab-badge.svg\" alt=\"Open In Colab\"/></a>"
      ]
    },
    {
      "cell_type": "markdown",
      "source": [
        "Here we use top 25% rainfall as extreme:"
      ],
      "metadata": {
        "id": "_HL-GLP-Wxz-"
      }
    },
    {
      "cell_type": "code",
      "source": [
        "import numpy as np\n",
        "import pandas as pd\n",
        "import matplotlib.pyplot as plt\n",
        "from matplotlib.ticker import MaxNLocator"
      ],
      "metadata": {
        "id": "XkZrqP2EduXJ"
      },
      "execution_count": null,
      "outputs": []
    },
    {
      "cell_type": "code",
      "source": [
        "df = pd.read_csv(\"https://raw.githubusercontent.com/pippahtlin/Extreme-Precipitation/main/data/precipitation_soi\",index_col = \"date\")\n",
        "df.index = pd.to_datetime(df.index)"
      ],
      "metadata": {
        "id": "PEZm2XgEeLZ3"
      },
      "execution_count": null,
      "outputs": []
    },
    {
      "cell_type": "code",
      "source": [
        "extremes = df.loc[(df['daily rain']!=0)].groupby('month').quantile(0.75)['daily rain']\n",
        "df['binary_rain_75'] = df.apply(lambda row: 1 if row['daily rain'] > extremes[row['month']] else 0, axis=1)"
      ],
      "metadata": {
        "id": "Y58zL7naeSmA"
      },
      "execution_count": null,
      "outputs": []
    },
    {
      "cell_type": "code",
      "source": [
        "pos_prop = df['binary_rain_75'].sum()/ len(df['binary_rain_75'])\n",
        "print(f'Proportion of extreme precpiptation: {pos_prop}')"
      ],
      "metadata": {
        "colab": {
          "base_uri": "https://localhost:8080/"
        },
        "id": "tZEw0URBexop",
        "outputId": "7c28c977-a535-4615-e187-0e8fe1bbe84e"
      },
      "execution_count": null,
      "outputs": [
        {
          "output_type": "stream",
          "name": "stdout",
          "text": [
            "Proportion of extreme precpiptation: 0.024973892949985557\n"
          ]
        }
      ]
    },
    {
      "cell_type": "code",
      "source": [
        "df['binary_lagged30_75'] = None\n",
        "df['daily_lagged30_75'] = None\n",
        "\n",
        "for date in df.index:\n",
        "    start_date = date - pd.Timedelta(days=30)\n",
        "    binary_30_days = df.loc[start_date:date - pd.Timedelta(days=1), 'binary_rain_75'].tolist()\n",
        "    daily_30_days = df.loc[start_date:date - pd.Timedelta(days=1), 'daily rain'].tolist()\n",
        "\n",
        "    if len(binary_30_days) < 30:\n",
        "        binary_30_days = [0] * (30 - len(binary_30_days)) + binary_30_days\n",
        "\n",
        "    if len(daily_30_days) < 30:\n",
        "        daily_30_days = [0] * (30 - len(daily_30_days)) + daily_30_days\n",
        "\n",
        "    df.at[date, 'binary_lagged30_75'] = binary_30_days\n",
        "    df.at[date, 'daily_lagged30_75'] = daily_30_days\n",
        "\n",
        "df['binary_lagged30__75_mean'] = df['binary_lagged30_75'].apply(lambda x: np.mean(x))"
      ],
      "metadata": {
        "id": "JfY61w2he-tG"
      },
      "execution_count": null,
      "outputs": []
    },
    {
      "cell_type": "code",
      "source": [
        "df"
      ],
      "metadata": {
        "colab": {
          "base_uri": "https://localhost:8080/",
          "height": 646
        },
        "id": "EIsp5wz2f1aC",
        "outputId": "ba83e112-c282-41d4-ce7a-88e803f13df5"
      },
      "execution_count": null,
      "outputs": [
        {
          "output_type": "execute_result",
          "data": {
            "text/plain": [
              "            year  month  day  daily rain  binary rain  soi  binary_rain_75  \\\n",
              "date                                                                         \n",
              "1899-10-11  1899     10   11    3.048000            0   -1               0   \n",
              "1899-10-12  1899     10   12    2.032000            0   -1               0   \n",
              "1899-10-13  1899     10   13   33.020000            1   -1               1   \n",
              "1899-10-14  1899     10   14    0.508000            0   -1               0   \n",
              "1899-10-15  1899     10   15    0.000000            0   -1               0   \n",
              "...          ...    ...  ...         ...          ...  ...             ...   \n",
              "2022-12-27  2022     12   27    0.000000            0    1               0   \n",
              "2022-12-28  2022     12   28   22.859999            0    1               1   \n",
              "2022-12-29  2022     12   29    0.000000            0    1               0   \n",
              "2022-12-30  2022     12   30    1.270000            0    1               0   \n",
              "2022-12-31  2022     12   31    4.826000            0    1               0   \n",
              "\n",
              "                                           binary_lagged30_75  \\\n",
              "date                                                            \n",
              "1899-10-11  [0, 0, 0, 0, 0, 0, 0, 0, 0, 0, 0, 0, 0, 0, 0, ...   \n",
              "1899-10-12  [0, 0, 0, 0, 0, 0, 0, 0, 0, 0, 0, 0, 0, 0, 0, ...   \n",
              "1899-10-13  [0, 0, 0, 0, 0, 0, 0, 0, 0, 0, 0, 0, 0, 0, 0, ...   \n",
              "1899-10-14  [0, 0, 0, 0, 0, 0, 0, 0, 0, 0, 0, 0, 0, 0, 0, ...   \n",
              "1899-10-15  [0, 0, 0, 0, 0, 0, 0, 0, 0, 0, 0, 0, 0, 0, 0, ...   \n",
              "...                                                       ...   \n",
              "2022-12-27  [0, 0, 0, 0, 0, 0, 1, 0, 0, 0, 0, 0, 0, 0, 1, ...   \n",
              "2022-12-28  [0, 0, 0, 0, 0, 1, 0, 0, 0, 0, 0, 0, 0, 1, 0, ...   \n",
              "2022-12-29  [0, 0, 0, 0, 1, 0, 0, 0, 0, 0, 0, 0, 1, 0, 0, ...   \n",
              "2022-12-30  [0, 0, 0, 1, 0, 0, 0, 0, 0, 0, 0, 1, 0, 0, 0, ...   \n",
              "2022-12-31  [0, 0, 1, 0, 0, 0, 0, 0, 0, 0, 1, 0, 0, 0, 0, ...   \n",
              "\n",
              "                                            daily_lagged30_75  \\\n",
              "date                                                            \n",
              "1899-10-11  [0, 0, 0, 0, 0, 0, 0, 0, 0, 0, 0, 0, 0, 0, 0, ...   \n",
              "1899-10-12  [0, 0, 0, 0, 0, 0, 0, 0, 0, 0, 0, 0, 0, 0, 0, ...   \n",
              "1899-10-13  [0, 0, 0, 0, 0, 0, 0, 0, 0, 0, 0, 0, 0, 0, 0, ...   \n",
              "1899-10-14  [0, 0, 0, 0, 0, 0, 0, 0, 0, 0, 0, 0, 0, 0, 0, ...   \n",
              "1899-10-15  [0, 0, 0, 0, 0, 0, 0, 0, 0, 0, 0, 0, 0, 0, 0, ...   \n",
              "...                                                       ...   \n",
              "2022-12-27  [0.0, 0.0, 0.0, 0.0, 1.269999971613288, 14.477...   \n",
              "2022-12-28  [0.0, 0.0, 0.0, 1.269999971613288, 14.47799967...   \n",
              "2022-12-29  [0.0, 0.0, 1.269999971613288, 14.4779996763914...   \n",
              "2022-12-30  [0.0, 1.269999971613288, 14.477999676391482, 1...   \n",
              "2022-12-31  [1.269999971613288, 14.477999676391482, 19.303...   \n",
              "\n",
              "            binary_lagged30__75_mean  \n",
              "date                                  \n",
              "1899-10-11                  0.000000  \n",
              "1899-10-12                  0.000000  \n",
              "1899-10-13                  0.000000  \n",
              "1899-10-14                  0.033333  \n",
              "1899-10-15                  0.033333  \n",
              "...                              ...  \n",
              "2022-12-27                  0.066667  \n",
              "2022-12-28                  0.066667  \n",
              "2022-12-29                  0.100000  \n",
              "2022-12-30                  0.100000  \n",
              "2022-12-31                  0.100000  \n",
              "\n",
              "[45007 rows x 10 columns]"
            ],
            "text/html": [
              "\n",
              "  <div id=\"df-89999eeb-e555-4a31-8d0f-153671548251\" class=\"colab-df-container\">\n",
              "    <div>\n",
              "<style scoped>\n",
              "    .dataframe tbody tr th:only-of-type {\n",
              "        vertical-align: middle;\n",
              "    }\n",
              "\n",
              "    .dataframe tbody tr th {\n",
              "        vertical-align: top;\n",
              "    }\n",
              "\n",
              "    .dataframe thead th {\n",
              "        text-align: right;\n",
              "    }\n",
              "</style>\n",
              "<table border=\"1\" class=\"dataframe\">\n",
              "  <thead>\n",
              "    <tr style=\"text-align: right;\">\n",
              "      <th></th>\n",
              "      <th>year</th>\n",
              "      <th>month</th>\n",
              "      <th>day</th>\n",
              "      <th>daily rain</th>\n",
              "      <th>binary rain</th>\n",
              "      <th>soi</th>\n",
              "      <th>binary_rain_75</th>\n",
              "      <th>binary_lagged30_75</th>\n",
              "      <th>daily_lagged30_75</th>\n",
              "      <th>binary_lagged30__75_mean</th>\n",
              "    </tr>\n",
              "    <tr>\n",
              "      <th>date</th>\n",
              "      <th></th>\n",
              "      <th></th>\n",
              "      <th></th>\n",
              "      <th></th>\n",
              "      <th></th>\n",
              "      <th></th>\n",
              "      <th></th>\n",
              "      <th></th>\n",
              "      <th></th>\n",
              "      <th></th>\n",
              "    </tr>\n",
              "  </thead>\n",
              "  <tbody>\n",
              "    <tr>\n",
              "      <th>1899-10-11</th>\n",
              "      <td>1899</td>\n",
              "      <td>10</td>\n",
              "      <td>11</td>\n",
              "      <td>3.048000</td>\n",
              "      <td>0</td>\n",
              "      <td>-1</td>\n",
              "      <td>0</td>\n",
              "      <td>[0, 0, 0, 0, 0, 0, 0, 0, 0, 0, 0, 0, 0, 0, 0, ...</td>\n",
              "      <td>[0, 0, 0, 0, 0, 0, 0, 0, 0, 0, 0, 0, 0, 0, 0, ...</td>\n",
              "      <td>0.000000</td>\n",
              "    </tr>\n",
              "    <tr>\n",
              "      <th>1899-10-12</th>\n",
              "      <td>1899</td>\n",
              "      <td>10</td>\n",
              "      <td>12</td>\n",
              "      <td>2.032000</td>\n",
              "      <td>0</td>\n",
              "      <td>-1</td>\n",
              "      <td>0</td>\n",
              "      <td>[0, 0, 0, 0, 0, 0, 0, 0, 0, 0, 0, 0, 0, 0, 0, ...</td>\n",
              "      <td>[0, 0, 0, 0, 0, 0, 0, 0, 0, 0, 0, 0, 0, 0, 0, ...</td>\n",
              "      <td>0.000000</td>\n",
              "    </tr>\n",
              "    <tr>\n",
              "      <th>1899-10-13</th>\n",
              "      <td>1899</td>\n",
              "      <td>10</td>\n",
              "      <td>13</td>\n",
              "      <td>33.020000</td>\n",
              "      <td>1</td>\n",
              "      <td>-1</td>\n",
              "      <td>1</td>\n",
              "      <td>[0, 0, 0, 0, 0, 0, 0, 0, 0, 0, 0, 0, 0, 0, 0, ...</td>\n",
              "      <td>[0, 0, 0, 0, 0, 0, 0, 0, 0, 0, 0, 0, 0, 0, 0, ...</td>\n",
              "      <td>0.000000</td>\n",
              "    </tr>\n",
              "    <tr>\n",
              "      <th>1899-10-14</th>\n",
              "      <td>1899</td>\n",
              "      <td>10</td>\n",
              "      <td>14</td>\n",
              "      <td>0.508000</td>\n",
              "      <td>0</td>\n",
              "      <td>-1</td>\n",
              "      <td>0</td>\n",
              "      <td>[0, 0, 0, 0, 0, 0, 0, 0, 0, 0, 0, 0, 0, 0, 0, ...</td>\n",
              "      <td>[0, 0, 0, 0, 0, 0, 0, 0, 0, 0, 0, 0, 0, 0, 0, ...</td>\n",
              "      <td>0.033333</td>\n",
              "    </tr>\n",
              "    <tr>\n",
              "      <th>1899-10-15</th>\n",
              "      <td>1899</td>\n",
              "      <td>10</td>\n",
              "      <td>15</td>\n",
              "      <td>0.000000</td>\n",
              "      <td>0</td>\n",
              "      <td>-1</td>\n",
              "      <td>0</td>\n",
              "      <td>[0, 0, 0, 0, 0, 0, 0, 0, 0, 0, 0, 0, 0, 0, 0, ...</td>\n",
              "      <td>[0, 0, 0, 0, 0, 0, 0, 0, 0, 0, 0, 0, 0, 0, 0, ...</td>\n",
              "      <td>0.033333</td>\n",
              "    </tr>\n",
              "    <tr>\n",
              "      <th>...</th>\n",
              "      <td>...</td>\n",
              "      <td>...</td>\n",
              "      <td>...</td>\n",
              "      <td>...</td>\n",
              "      <td>...</td>\n",
              "      <td>...</td>\n",
              "      <td>...</td>\n",
              "      <td>...</td>\n",
              "      <td>...</td>\n",
              "      <td>...</td>\n",
              "    </tr>\n",
              "    <tr>\n",
              "      <th>2022-12-27</th>\n",
              "      <td>2022</td>\n",
              "      <td>12</td>\n",
              "      <td>27</td>\n",
              "      <td>0.000000</td>\n",
              "      <td>0</td>\n",
              "      <td>1</td>\n",
              "      <td>0</td>\n",
              "      <td>[0, 0, 0, 0, 0, 0, 1, 0, 0, 0, 0, 0, 0, 0, 1, ...</td>\n",
              "      <td>[0.0, 0.0, 0.0, 0.0, 1.269999971613288, 14.477...</td>\n",
              "      <td>0.066667</td>\n",
              "    </tr>\n",
              "    <tr>\n",
              "      <th>2022-12-28</th>\n",
              "      <td>2022</td>\n",
              "      <td>12</td>\n",
              "      <td>28</td>\n",
              "      <td>22.859999</td>\n",
              "      <td>0</td>\n",
              "      <td>1</td>\n",
              "      <td>1</td>\n",
              "      <td>[0, 0, 0, 0, 0, 1, 0, 0, 0, 0, 0, 0, 0, 1, 0, ...</td>\n",
              "      <td>[0.0, 0.0, 0.0, 1.269999971613288, 14.47799967...</td>\n",
              "      <td>0.066667</td>\n",
              "    </tr>\n",
              "    <tr>\n",
              "      <th>2022-12-29</th>\n",
              "      <td>2022</td>\n",
              "      <td>12</td>\n",
              "      <td>29</td>\n",
              "      <td>0.000000</td>\n",
              "      <td>0</td>\n",
              "      <td>1</td>\n",
              "      <td>0</td>\n",
              "      <td>[0, 0, 0, 0, 1, 0, 0, 0, 0, 0, 0, 0, 1, 0, 0, ...</td>\n",
              "      <td>[0.0, 0.0, 1.269999971613288, 14.4779996763914...</td>\n",
              "      <td>0.100000</td>\n",
              "    </tr>\n",
              "    <tr>\n",
              "      <th>2022-12-30</th>\n",
              "      <td>2022</td>\n",
              "      <td>12</td>\n",
              "      <td>30</td>\n",
              "      <td>1.270000</td>\n",
              "      <td>0</td>\n",
              "      <td>1</td>\n",
              "      <td>0</td>\n",
              "      <td>[0, 0, 0, 1, 0, 0, 0, 0, 0, 0, 0, 1, 0, 0, 0, ...</td>\n",
              "      <td>[0.0, 1.269999971613288, 14.477999676391482, 1...</td>\n",
              "      <td>0.100000</td>\n",
              "    </tr>\n",
              "    <tr>\n",
              "      <th>2022-12-31</th>\n",
              "      <td>2022</td>\n",
              "      <td>12</td>\n",
              "      <td>31</td>\n",
              "      <td>4.826000</td>\n",
              "      <td>0</td>\n",
              "      <td>1</td>\n",
              "      <td>0</td>\n",
              "      <td>[0, 0, 1, 0, 0, 0, 0, 0, 0, 0, 1, 0, 0, 0, 0, ...</td>\n",
              "      <td>[1.269999971613288, 14.477999676391482, 19.303...</td>\n",
              "      <td>0.100000</td>\n",
              "    </tr>\n",
              "  </tbody>\n",
              "</table>\n",
              "<p>45007 rows × 10 columns</p>\n",
              "</div>\n",
              "    <div class=\"colab-df-buttons\">\n",
              "\n",
              "  <div class=\"colab-df-container\">\n",
              "    <button class=\"colab-df-convert\" onclick=\"convertToInteractive('df-89999eeb-e555-4a31-8d0f-153671548251')\"\n",
              "            title=\"Convert this dataframe to an interactive table.\"\n",
              "            style=\"display:none;\">\n",
              "\n",
              "  <svg xmlns=\"http://www.w3.org/2000/svg\" height=\"24px\" viewBox=\"0 -960 960 960\">\n",
              "    <path d=\"M120-120v-720h720v720H120Zm60-500h600v-160H180v160Zm220 220h160v-160H400v160Zm0 220h160v-160H400v160ZM180-400h160v-160H180v160Zm440 0h160v-160H620v160ZM180-180h160v-160H180v160Zm440 0h160v-160H620v160Z\"/>\n",
              "  </svg>\n",
              "    </button>\n",
              "\n",
              "  <style>\n",
              "    .colab-df-container {\n",
              "      display:flex;\n",
              "      gap: 12px;\n",
              "    }\n",
              "\n",
              "    .colab-df-convert {\n",
              "      background-color: #E8F0FE;\n",
              "      border: none;\n",
              "      border-radius: 50%;\n",
              "      cursor: pointer;\n",
              "      display: none;\n",
              "      fill: #1967D2;\n",
              "      height: 32px;\n",
              "      padding: 0 0 0 0;\n",
              "      width: 32px;\n",
              "    }\n",
              "\n",
              "    .colab-df-convert:hover {\n",
              "      background-color: #E2EBFA;\n",
              "      box-shadow: 0px 1px 2px rgba(60, 64, 67, 0.3), 0px 1px 3px 1px rgba(60, 64, 67, 0.15);\n",
              "      fill: #174EA6;\n",
              "    }\n",
              "\n",
              "    .colab-df-buttons div {\n",
              "      margin-bottom: 4px;\n",
              "    }\n",
              "\n",
              "    [theme=dark] .colab-df-convert {\n",
              "      background-color: #3B4455;\n",
              "      fill: #D2E3FC;\n",
              "    }\n",
              "\n",
              "    [theme=dark] .colab-df-convert:hover {\n",
              "      background-color: #434B5C;\n",
              "      box-shadow: 0px 1px 3px 1px rgba(0, 0, 0, 0.15);\n",
              "      filter: drop-shadow(0px 1px 2px rgba(0, 0, 0, 0.3));\n",
              "      fill: #FFFFFF;\n",
              "    }\n",
              "  </style>\n",
              "\n",
              "    <script>\n",
              "      const buttonEl =\n",
              "        document.querySelector('#df-89999eeb-e555-4a31-8d0f-153671548251 button.colab-df-convert');\n",
              "      buttonEl.style.display =\n",
              "        google.colab.kernel.accessAllowed ? 'block' : 'none';\n",
              "\n",
              "      async function convertToInteractive(key) {\n",
              "        const element = document.querySelector('#df-89999eeb-e555-4a31-8d0f-153671548251');\n",
              "        const dataTable =\n",
              "          await google.colab.kernel.invokeFunction('convertToInteractive',\n",
              "                                                    [key], {});\n",
              "        if (!dataTable) return;\n",
              "\n",
              "        const docLinkHtml = 'Like what you see? Visit the ' +\n",
              "          '<a target=\"_blank\" href=https://colab.research.google.com/notebooks/data_table.ipynb>data table notebook</a>'\n",
              "          + ' to learn more about interactive tables.';\n",
              "        element.innerHTML = '';\n",
              "        dataTable['output_type'] = 'display_data';\n",
              "        await google.colab.output.renderOutput(dataTable, element);\n",
              "        const docLink = document.createElement('div');\n",
              "        docLink.innerHTML = docLinkHtml;\n",
              "        element.appendChild(docLink);\n",
              "      }\n",
              "    </script>\n",
              "  </div>\n",
              "\n",
              "\n",
              "<div id=\"df-68749d73-7fdb-485b-99b3-532fe5096173\">\n",
              "  <button class=\"colab-df-quickchart\" onclick=\"quickchart('df-68749d73-7fdb-485b-99b3-532fe5096173')\"\n",
              "            title=\"Suggest charts\"\n",
              "            style=\"display:none;\">\n",
              "\n",
              "<svg xmlns=\"http://www.w3.org/2000/svg\" height=\"24px\"viewBox=\"0 0 24 24\"\n",
              "     width=\"24px\">\n",
              "    <g>\n",
              "        <path d=\"M19 3H5c-1.1 0-2 .9-2 2v14c0 1.1.9 2 2 2h14c1.1 0 2-.9 2-2V5c0-1.1-.9-2-2-2zM9 17H7v-7h2v7zm4 0h-2V7h2v10zm4 0h-2v-4h2v4z\"/>\n",
              "    </g>\n",
              "</svg>\n",
              "  </button>\n",
              "\n",
              "<style>\n",
              "  .colab-df-quickchart {\n",
              "      --bg-color: #E8F0FE;\n",
              "      --fill-color: #1967D2;\n",
              "      --hover-bg-color: #E2EBFA;\n",
              "      --hover-fill-color: #174EA6;\n",
              "      --disabled-fill-color: #AAA;\n",
              "      --disabled-bg-color: #DDD;\n",
              "  }\n",
              "\n",
              "  [theme=dark] .colab-df-quickchart {\n",
              "      --bg-color: #3B4455;\n",
              "      --fill-color: #D2E3FC;\n",
              "      --hover-bg-color: #434B5C;\n",
              "      --hover-fill-color: #FFFFFF;\n",
              "      --disabled-bg-color: #3B4455;\n",
              "      --disabled-fill-color: #666;\n",
              "  }\n",
              "\n",
              "  .colab-df-quickchart {\n",
              "    background-color: var(--bg-color);\n",
              "    border: none;\n",
              "    border-radius: 50%;\n",
              "    cursor: pointer;\n",
              "    display: none;\n",
              "    fill: var(--fill-color);\n",
              "    height: 32px;\n",
              "    padding: 0;\n",
              "    width: 32px;\n",
              "  }\n",
              "\n",
              "  .colab-df-quickchart:hover {\n",
              "    background-color: var(--hover-bg-color);\n",
              "    box-shadow: 0 1px 2px rgba(60, 64, 67, 0.3), 0 1px 3px 1px rgba(60, 64, 67, 0.15);\n",
              "    fill: var(--button-hover-fill-color);\n",
              "  }\n",
              "\n",
              "  .colab-df-quickchart-complete:disabled,\n",
              "  .colab-df-quickchart-complete:disabled:hover {\n",
              "    background-color: var(--disabled-bg-color);\n",
              "    fill: var(--disabled-fill-color);\n",
              "    box-shadow: none;\n",
              "  }\n",
              "\n",
              "  .colab-df-spinner {\n",
              "    border: 2px solid var(--fill-color);\n",
              "    border-color: transparent;\n",
              "    border-bottom-color: var(--fill-color);\n",
              "    animation:\n",
              "      spin 1s steps(1) infinite;\n",
              "  }\n",
              "\n",
              "  @keyframes spin {\n",
              "    0% {\n",
              "      border-color: transparent;\n",
              "      border-bottom-color: var(--fill-color);\n",
              "      border-left-color: var(--fill-color);\n",
              "    }\n",
              "    20% {\n",
              "      border-color: transparent;\n",
              "      border-left-color: var(--fill-color);\n",
              "      border-top-color: var(--fill-color);\n",
              "    }\n",
              "    30% {\n",
              "      border-color: transparent;\n",
              "      border-left-color: var(--fill-color);\n",
              "      border-top-color: var(--fill-color);\n",
              "      border-right-color: var(--fill-color);\n",
              "    }\n",
              "    40% {\n",
              "      border-color: transparent;\n",
              "      border-right-color: var(--fill-color);\n",
              "      border-top-color: var(--fill-color);\n",
              "    }\n",
              "    60% {\n",
              "      border-color: transparent;\n",
              "      border-right-color: var(--fill-color);\n",
              "    }\n",
              "    80% {\n",
              "      border-color: transparent;\n",
              "      border-right-color: var(--fill-color);\n",
              "      border-bottom-color: var(--fill-color);\n",
              "    }\n",
              "    90% {\n",
              "      border-color: transparent;\n",
              "      border-bottom-color: var(--fill-color);\n",
              "    }\n",
              "  }\n",
              "</style>\n",
              "\n",
              "  <script>\n",
              "    async function quickchart(key) {\n",
              "      const quickchartButtonEl =\n",
              "        document.querySelector('#' + key + ' button');\n",
              "      quickchartButtonEl.disabled = true;  // To prevent multiple clicks.\n",
              "      quickchartButtonEl.classList.add('colab-df-spinner');\n",
              "      try {\n",
              "        const charts = await google.colab.kernel.invokeFunction(\n",
              "            'suggestCharts', [key], {});\n",
              "      } catch (error) {\n",
              "        console.error('Error during call to suggestCharts:', error);\n",
              "      }\n",
              "      quickchartButtonEl.classList.remove('colab-df-spinner');\n",
              "      quickchartButtonEl.classList.add('colab-df-quickchart-complete');\n",
              "    }\n",
              "    (() => {\n",
              "      let quickchartButtonEl =\n",
              "        document.querySelector('#df-68749d73-7fdb-485b-99b3-532fe5096173 button');\n",
              "      quickchartButtonEl.style.display =\n",
              "        google.colab.kernel.accessAllowed ? 'block' : 'none';\n",
              "    })();\n",
              "  </script>\n",
              "</div>\n",
              "\n",
              "  <div id=\"id_f79dcced-e1c8-4fa5-9202-b0a5659b9b2e\">\n",
              "    <style>\n",
              "      .colab-df-generate {\n",
              "        background-color: #E8F0FE;\n",
              "        border: none;\n",
              "        border-radius: 50%;\n",
              "        cursor: pointer;\n",
              "        display: none;\n",
              "        fill: #1967D2;\n",
              "        height: 32px;\n",
              "        padding: 0 0 0 0;\n",
              "        width: 32px;\n",
              "      }\n",
              "\n",
              "      .colab-df-generate:hover {\n",
              "        background-color: #E2EBFA;\n",
              "        box-shadow: 0px 1px 2px rgba(60, 64, 67, 0.3), 0px 1px 3px 1px rgba(60, 64, 67, 0.15);\n",
              "        fill: #174EA6;\n",
              "      }\n",
              "\n",
              "      [theme=dark] .colab-df-generate {\n",
              "        background-color: #3B4455;\n",
              "        fill: #D2E3FC;\n",
              "      }\n",
              "\n",
              "      [theme=dark] .colab-df-generate:hover {\n",
              "        background-color: #434B5C;\n",
              "        box-shadow: 0px 1px 3px 1px rgba(0, 0, 0, 0.15);\n",
              "        filter: drop-shadow(0px 1px 2px rgba(0, 0, 0, 0.3));\n",
              "        fill: #FFFFFF;\n",
              "      }\n",
              "    </style>\n",
              "    <button class=\"colab-df-generate\" onclick=\"generateWithVariable('df')\"\n",
              "            title=\"Generate code using this dataframe.\"\n",
              "            style=\"display:none;\">\n",
              "\n",
              "  <svg xmlns=\"http://www.w3.org/2000/svg\" height=\"24px\"viewBox=\"0 0 24 24\"\n",
              "       width=\"24px\">\n",
              "    <path d=\"M7,19H8.4L18.45,9,17,7.55,7,17.6ZM5,21V16.75L18.45,3.32a2,2,0,0,1,2.83,0l1.4,1.43a1.91,1.91,0,0,1,.58,1.4,1.91,1.91,0,0,1-.58,1.4L9.25,21ZM18.45,9,17,7.55Zm-12,3A5.31,5.31,0,0,0,4.9,8.1,5.31,5.31,0,0,0,1,6.5,5.31,5.31,0,0,0,4.9,4.9,5.31,5.31,0,0,0,6.5,1,5.31,5.31,0,0,0,8.1,4.9,5.31,5.31,0,0,0,12,6.5,5.46,5.46,0,0,0,6.5,12Z\"/>\n",
              "  </svg>\n",
              "    </button>\n",
              "    <script>\n",
              "      (() => {\n",
              "      const buttonEl =\n",
              "        document.querySelector('#id_f79dcced-e1c8-4fa5-9202-b0a5659b9b2e button.colab-df-generate');\n",
              "      buttonEl.style.display =\n",
              "        google.colab.kernel.accessAllowed ? 'block' : 'none';\n",
              "\n",
              "      buttonEl.onclick = () => {\n",
              "        google.colab.notebook.generateWithVariable('df');\n",
              "      }\n",
              "      })();\n",
              "    </script>\n",
              "  </div>\n",
              "\n",
              "    </div>\n",
              "  </div>\n"
            ],
            "application/vnd.google.colaboratory.intrinsic+json": {
              "type": "dataframe",
              "variable_name": "df",
              "summary": "{\n  \"name\": \"df\",\n  \"rows\": 45007,\n  \"fields\": [\n    {\n      \"column\": \"date\",\n      \"properties\": {\n        \"dtype\": \"date\",\n        \"min\": \"1899-10-11 00:00:00\",\n        \"max\": \"2022-12-31 00:00:00\",\n        \"num_unique_values\": 45007,\n        \"samples\": [\n          \"1971-09-10 00:00:00\",\n          \"1973-06-28 00:00:00\",\n          \"1993-11-30 00:00:00\"\n        ],\n        \"semantic_type\": \"\",\n        \"description\": \"\"\n      }\n    },\n    {\n      \"column\": \"year\",\n      \"properties\": {\n        \"dtype\": \"number\",\n        \"std\": 35,\n        \"min\": 1899,\n        \"max\": 2022,\n        \"num_unique_values\": 124,\n        \"samples\": [\n          1917,\n          1941,\n          1935\n        ],\n        \"semantic_type\": \"\",\n        \"description\": \"\"\n      }\n    },\n    {\n      \"column\": \"month\",\n      \"properties\": {\n        \"dtype\": \"number\",\n        \"std\": 3,\n        \"min\": 1,\n        \"max\": 12,\n        \"num_unique_values\": 12,\n        \"samples\": [\n          8,\n          7,\n          10\n        ],\n        \"semantic_type\": \"\",\n        \"description\": \"\"\n      }\n    },\n    {\n      \"column\": \"day\",\n      \"properties\": {\n        \"dtype\": \"number\",\n        \"std\": 8,\n        \"min\": 1,\n        \"max\": 31,\n        \"num_unique_values\": 31,\n        \"samples\": [\n          7,\n          26,\n          3\n        ],\n        \"semantic_type\": \"\",\n        \"description\": \"\"\n      }\n    },\n    {\n      \"column\": \"daily rain\",\n      \"properties\": {\n        \"dtype\": \"number\",\n        \"std\": 6.83386636939664,\n        \"min\": 0.0,\n        \"max\": 176.53,\n        \"num_unique_values\": 497,\n        \"samples\": [\n          6.096000000000002,\n          11.938,\n          75.184\n        ],\n        \"semantic_type\": \"\",\n        \"description\": \"\"\n      }\n    },\n    {\n      \"column\": \"binary rain\",\n      \"properties\": {\n        \"dtype\": \"number\",\n        \"std\": 0,\n        \"min\": 0,\n        \"max\": 1,\n        \"num_unique_values\": 2,\n        \"samples\": [\n          1,\n          0\n        ],\n        \"semantic_type\": \"\",\n        \"description\": \"\"\n      }\n    },\n    {\n      \"column\": \"soi\",\n      \"properties\": {\n        \"dtype\": \"number\",\n        \"std\": 0,\n        \"min\": -1,\n        \"max\": 1,\n        \"num_unique_values\": 3,\n        \"samples\": [\n          -1,\n          1\n        ],\n        \"semantic_type\": \"\",\n        \"description\": \"\"\n      }\n    },\n    {\n      \"column\": \"binary_rain_75\",\n      \"properties\": {\n        \"dtype\": \"number\",\n        \"std\": 0,\n        \"min\": 0,\n        \"max\": 1,\n        \"num_unique_values\": 2,\n        \"samples\": [\n          1,\n          0\n        ],\n        \"semantic_type\": \"\",\n        \"description\": \"\"\n      }\n    },\n    {\n      \"column\": \"binary_lagged30_75\",\n      \"properties\": {\n        \"dtype\": \"object\",\n        \"semantic_type\": \"\",\n        \"description\": \"\"\n      }\n    },\n    {\n      \"column\": \"daily_lagged30_75\",\n      \"properties\": {\n        \"dtype\": \"object\",\n        \"semantic_type\": \"\",\n        \"description\": \"\"\n      }\n    },\n    {\n      \"column\": \"binary_lagged30__75_mean\",\n      \"properties\": {\n        \"dtype\": \"number\",\n        \"std\": 0.041638791430088314,\n        \"min\": 0.0,\n        \"max\": 0.43333333333333335,\n        \"num_unique_values\": 14,\n        \"samples\": [\n          0.3,\n          0.36666666666666664\n        ],\n        \"semantic_type\": \"\",\n        \"description\": \"\"\n      }\n    }\n  ]\n}"
            }
          },
          "metadata": {},
          "execution_count": 6
        }
      ]
    },
    {
      "cell_type": "code",
      "source": [
        "# Calculate indices for splitting\n",
        "total_rows = len(df)\n",
        "train_end = int(total_rows * 0.6)\n",
        "validation_end = train_end + int(total_rows * 0.2)\n",
        "\n",
        "# Using iloc for integer-location based indexing\n",
        "train_features = df[[\"soi\",\"binary_lagged30__75_mean\"]].iloc[:train_end]\n",
        "train_rain = df.iloc[:train_end]['binary_rain_75']\n",
        "\n",
        "validation_features = df[[\"soi\",\"binary_lagged30__75_mean\"]].iloc[train_end:validation_end]\n",
        "validation_rain = df.iloc[train_end:validation_end]['binary_rain_75']\n",
        "\n",
        "test_features = df[[\"soi\",\"binary_lagged30__75_mean\"]].iloc[validation_end:]\n",
        "test_rain = df.iloc[validation_end:]['binary_rain_75']\n",
        "\n",
        "\n",
        "\n",
        "T = 90 # Consider seasonality\n",
        "\n",
        "# Prepend the last T-1 observations from the training set to the validation features\n",
        "prepend_features_to_validation = train_features.iloc[-(T-1):]\n",
        "validation_features = pd.concat([prepend_features_to_validation, validation_features], axis=0)\n",
        "\n",
        "# Similarly, prepend the last T-1 observations from the validation set (including the part that was just prepended) to the test features\n",
        "prepend_features_to_test = validation_features.iloc[-(T-1):]\n",
        "test_features = pd.concat([prepend_features_to_test, test_features], axis=0)\n",
        "\n",
        "# Output the shapes of the datasets to check everything is as expected\n",
        "train_features.shape, train_rain.shape, validation_features.shape, validation_rain.shape, test_features.shape, test_rain.shape"
      ],
      "metadata": {
        "colab": {
          "base_uri": "https://localhost:8080/"
        },
        "id": "8sN6NFPGf9KZ",
        "outputId": "8061ac05-f68f-4417-eef5-97ce563a0dbf"
      },
      "execution_count": null,
      "outputs": [
        {
          "output_type": "execute_result",
          "data": {
            "text/plain": [
              "((27004, 2), (27004,), (9090, 2), (9001,), (9091, 2), (9002,))"
            ]
          },
          "metadata": {},
          "execution_count": 7
        }
      ]
    },
    {
      "cell_type": "code",
      "source": [
        "# Create sequences of T timesteps\n",
        "X_train, y_train = [], []\n",
        "for i in range(len(train_rain) - (T-1)):\n",
        "    X_train.append(train_features.iloc[i:i+T].values)\n",
        "    y_train.append(train_rain.iloc[i + (T-1)])\n",
        "\n",
        "X_train, y_train = np.array(X_train), np.array(y_train).reshape(-1,1) # Reshape to vector for model\n",
        "#X_train = X_train[:, :, np.newaxis]\n",
        "print(f'Train data dimensions: {X_train.shape}, {y_train.shape}')\n",
        "\n",
        "\n",
        "X_val, y_val = [], []\n",
        "for i in range(len(validation_rain) - (T-1)):\n",
        "    X_val.append(validation_features.iloc[i:i+T].values)\n",
        "    y_val.append(validation_rain.iloc[i + (T-1)])\n",
        "X_val, y_val = np.array(X_val), np.array(y_val).reshape(-1,1)\n",
        "#X_val = X_val[:, :, np.newaxis]\n",
        "print(f'Validation data dimensions: {X_val.shape}, {y_val.shape}')\n",
        "\n",
        "X_test, y_test = [], []\n",
        "for i in range(len(test_rain)):\n",
        "    X_test.append(test_features.iloc[i:i+T].values)\n",
        "    y_test.append(test_rain.iloc[i])\n",
        "X_test, y_test = np.array(X_test), np.array(y_test).reshape(-1,1)\n",
        "#X_test = X_test[:, :, np.newaxis]\n",
        "print(f'Test data dimensions: {X_test.shape}, {y_test.shape}')"
      ],
      "metadata": {
        "colab": {
          "base_uri": "https://localhost:8080/"
        },
        "id": "Su0VTvopgJ5k",
        "outputId": "290653d1-8de6-47f7-a198-bc0dc884ac69"
      },
      "execution_count": null,
      "outputs": [
        {
          "output_type": "stream",
          "name": "stdout",
          "text": [
            "Train data dimensions: (26915, 90, 2), (26915, 1)\n",
            "Validation data dimensions: (8912, 90, 2), (8912, 1)\n",
            "Test data dimensions: (9002, 90, 2), (9002, 1)\n"
          ]
        }
      ]
    },
    {
      "cell_type": "code",
      "source": [
        "# Import Keras\n",
        "import keras\n",
        "from keras.models import Sequential\n",
        "from keras.layers import Dense, LSTM, BatchNormalization\n",
        "from keras.optimizers import Adam\n",
        "from keras.callbacks import ReduceLROnPlateau, EarlyStopping\n",
        "from keras.regularizers import l2\n",
        "from time import time"
      ],
      "metadata": {
        "id": "6n2-wOLXgPJ3"
      },
      "execution_count": null,
      "outputs": []
    },
    {
      "cell_type": "code",
      "source": [
        "# 1. Make a list of CONSTANTS for modelling:\n",
        "LAYERS = [30, 30, 30, 1]                # number of units in hidden and output layers (possible tune)\n",
        "M_TRAIN = X_train.shape[0]           # number of training examples (2D)\n",
        "M_VAL = X_val.shape[0]           # number of training examples (2D)\n",
        "M_TEST = X_test.shape[0]             # number of test examples (2D),full=X_test.shape[0]\n",
        "N = X_train.shape[2]                 # number of features\n",
        "BATCH = M_TRAIN                          # batch size\n",
        "EPOCH = 5                           # number of epochs (possible tune)\n",
        "LR = 0.05                            # learning rate of the gradient descent (possible tune)\n",
        "LAMBD = 0.03                         # lambda in L2 regularizaion (possible tune)\n",
        "DP = 0.0                             # dropout rate (possible tune)\n",
        "RDP = 0.0                            # recurrent dropout rate (possible tune)\n",
        "print(f'layers={LAYERS}, train_examples={M_TRAIN}, test_examples={M_TEST}')\n",
        "print(f'batch = {BATCH}, timesteps = {T}, features = {N}, epochs = {EPOCH}')\n",
        "print(f'lr = {LR}, lambda = {LAMBD}, dropout = {DP}, recurr_dropout = {RDP}')"
      ],
      "metadata": {
        "colab": {
          "base_uri": "https://localhost:8080/"
        },
        "id": "mPGdX6cVgSi2",
        "outputId": "827716f6-2c27-41e7-dee1-2c294810d152"
      },
      "execution_count": null,
      "outputs": [
        {
          "output_type": "stream",
          "name": "stdout",
          "text": [
            "layers=[30, 30, 30, 1], train_examples=26915, test_examples=9002\n",
            "batch = 26915, timesteps = 90, features = 2, epochs = 5\n",
            "lr = 0.05, lambda = 0.03, dropout = 0.0, recurr_dropout = 0.0\n"
          ]
        }
      ]
    },
    {
      "cell_type": "code",
      "source": [
        "# Address class imbalanced (assign weight to extreme days)\n",
        "from sklearn.utils.class_weight import compute_class_weight\n",
        "\n",
        "# Assuming binary classification and 0 is the majority class\n",
        "class_weights = compute_class_weight('balanced', classes=[0, 1], y=train_rain)\n",
        "class_weight_dict = {0: class_weights[0], 1: class_weights[1]}\n"
      ],
      "metadata": {
        "id": "jHjp0WiWgVyz"
      },
      "execution_count": null,
      "outputs": []
    },
    {
      "cell_type": "code",
      "source": [
        "# 2. Build the Model\n",
        "model = Sequential()\n",
        "model.add(LSTM(input_shape=(T, N), units=LAYERS[0],\n",
        "               activation='tanh', recurrent_activation='hard_sigmoid',\n",
        "               kernel_regularizer=l2(LAMBD), recurrent_regularizer=l2(LAMBD),\n",
        "               dropout=DP, recurrent_dropout=RDP,\n",
        "               return_sequences=True, return_state=False,\n",
        "               stateful=False, unroll=False\n",
        "              ))\n",
        "model.add(BatchNormalization())\n",
        "model.add(LSTM(units=LAYERS[1],\n",
        "               activation='tanh', recurrent_activation='hard_sigmoid',\n",
        "               kernel_regularizer=l2(LAMBD), recurrent_regularizer=l2(LAMBD),\n",
        "               dropout=DP, recurrent_dropout=RDP,\n",
        "               return_sequences=True, return_state=False,\n",
        "               stateful=False, unroll=False\n",
        "              ))\n",
        "model.add(BatchNormalization())\n",
        "model.add(LSTM(units=LAYERS[2],\n",
        "               activation='tanh', recurrent_activation='hard_sigmoid',\n",
        "               kernel_regularizer=l2(LAMBD), recurrent_regularizer=l2(LAMBD),\n",
        "               dropout=DP, recurrent_dropout=RDP,\n",
        "               return_sequences=False, return_state=False,\n",
        "               stateful=False, unroll=False\n",
        "              ))\n",
        "model.add(BatchNormalization())\n",
        "model.add(Dense(units=LAYERS[3], activation='sigmoid'))"
      ],
      "metadata": {
        "id": "JdrNKZvjgYZE"
      },
      "execution_count": null,
      "outputs": []
    },
    {
      "cell_type": "code",
      "source": [
        "# 3. Compile the model with Adam optimizer\n",
        "model.compile(loss='binary_crossentropy',\n",
        "              metrics=['accuracy','binary_accuracy',keras.metrics.Precision()],\n",
        "              optimizer=Adam(learning_rate=LR)) #\n",
        "print(model.summary())\n",
        "\n",
        "# Define a learning rate decay method:\n",
        "lr_decay = ReduceLROnPlateau(monitor='loss',\n",
        "                             patience=1, verbose=0,\n",
        "                             factor=0.25, min_lr=1e-8)\n",
        "# Define Early Stopping:\n",
        "early_stop = EarlyStopping(monitor='val_accuracy', min_delta=0,\n",
        "                           patience=2, verbose=1, mode='auto',\n",
        "                           baseline=0, restore_best_weights=True) # monitor ="
      ],
      "metadata": {
        "colab": {
          "base_uri": "https://localhost:8080/"
        },
        "id": "Gn397kzegemJ",
        "outputId": "3f3fcdcb-5374-4cbf-dfd3-72b587048d8d"
      },
      "execution_count": null,
      "outputs": [
        {
          "output_type": "stream",
          "name": "stdout",
          "text": [
            "Model: \"sequential\"\n",
            "_________________________________________________________________\n",
            " Layer (type)                Output Shape              Param #   \n",
            "=================================================================\n",
            " lstm (LSTM)                 (None, 90, 30)            3960      \n",
            "                                                                 \n",
            " batch_normalization (Batch  (None, 90, 30)            120       \n",
            " Normalization)                                                  \n",
            "                                                                 \n",
            " lstm_1 (LSTM)               (None, 90, 30)            7320      \n",
            "                                                                 \n",
            " batch_normalization_1 (Bat  (None, 90, 30)            120       \n",
            " chNormalization)                                                \n",
            "                                                                 \n",
            " lstm_2 (LSTM)               (None, 30)                7320      \n",
            "                                                                 \n",
            " batch_normalization_2 (Bat  (None, 30)                120       \n",
            " chNormalization)                                                \n",
            "                                                                 \n",
            " dense (Dense)               (None, 1)                 31        \n",
            "                                                                 \n",
            "=================================================================\n",
            "Total params: 18991 (74.18 KB)\n",
            "Trainable params: 18811 (73.48 KB)\n",
            "Non-trainable params: 180 (720.00 Byte)\n",
            "_________________________________________________________________\n",
            "None\n"
          ]
        }
      ]
    },
    {
      "cell_type": "code",
      "source": [
        "# 4. Train the model.\n",
        "# The dataset is small for NN - let's use test_data for validation -- should use cross-validation\n",
        "start = time()\n",
        "History = model.fit(X_train, y_train,\n",
        "                    epochs=EPOCH,\n",
        "                    class_weight=class_weight_dict,\n",
        "                    batch_size=BATCH,\n",
        "                    validation_data=(X_val, y_val),\n",
        "                    shuffle=True,verbose=0,\n",
        "                    callbacks=[lr_decay, early_stop])\n",
        "print('-'*65)\n",
        "print(f'Training was completed in {time() - start:.2f} secs')\n",
        "print('-'*65)"
      ],
      "metadata": {
        "colab": {
          "base_uri": "https://localhost:8080/"
        },
        "id": "cka73JpXgfr-",
        "outputId": "146a7f0c-7f06-46ff-f10b-58c6772d6ea7"
      },
      "execution_count": null,
      "outputs": [
        {
          "output_type": "stream",
          "name": "stdout",
          "text": [
            "Restoring model weights from the end of the best epoch: 3.\n",
            "Epoch 5: early stopping\n",
            "-----------------------------------------------------------------\n",
            "Training was completed in 65.93 secs\n",
            "-----------------------------------------------------------------\n"
          ]
        }
      ]
    },
    {
      "cell_type": "code",
      "source": [
        "# 5. Evaluate the model:\n",
        "train_loss, train_accuracy, train_binary_accuracy, train_precision = model.evaluate(X_train, y_train, batch_size=M_TRAIN, verbose=0)\n",
        "val_loss, val_accuracy, val_binary_accuracy, val_precision = model.evaluate(X_val, y_val, batch_size=M_VAL, verbose=0)\n",
        "\n",
        "print('-' * 65)\n",
        "print(f'Train Loss = {train_loss}')\n",
        "print(f'Train Accuracy = {train_accuracy * 100:.4f}%')\n",
        "print(f'Train Binary Accuracy = {train_binary_accuracy * 100:.4f}%')\n",
        "print(f'Train Precision = {train_precision * 100:.4f}%')\n",
        "print('-' * 65)\n",
        "print(f'Validation Loss = {val_loss}')\n",
        "print(f'Validation Accuracy = {val_accuracy * 100:.4f}%')\n",
        "print(f'Validation Binary Accuracy = {val_binary_accuracy * 100:.4f}%')\n",
        "print(f'Validation Precision = {val_precision * 100:.4f}%')"
      ],
      "metadata": {
        "colab": {
          "base_uri": "https://localhost:8080/"
        },
        "id": "lv1VuL79hOQY",
        "outputId": "1deb8772-f263-40a1-f652-0c2d33eb1a0c"
      },
      "execution_count": null,
      "outputs": [
        {
          "output_type": "stream",
          "name": "stdout",
          "text": [
            "-----------------------------------------------------------------\n",
            "Train Loss = 3.7747514247894287\n",
            "Train Accuracy = 91.1982%\n",
            "Train Binary Accuracy = 91.1982%\n",
            "Train Precision = 2.2892%\n",
            "-----------------------------------------------------------------\n",
            "Validation Loss = 3.7865662574768066\n",
            "Validation Accuracy = 90.6418%\n",
            "Validation Binary Accuracy = 90.6418%\n",
            "Validation Precision = 0.8532%\n"
          ]
        }
      ]
    },
    {
      "cell_type": "code",
      "source": [
        "result = model.predict(X_train)\n",
        "result_binary = model.predict(X_train > 0.5).astype(\"int32\")"
      ],
      "metadata": {
        "id": "NHiOx9ZblPqR"
      },
      "execution_count": 40,
      "outputs": []
    },
    {
      "cell_type": "code",
      "source": [
        "len(result[result > 0.5])/len(result)"
      ],
      "metadata": {
        "colab": {
          "base_uri": "https://localhost:8080/",
          "height": 0
        },
        "id": "AexYkCkIluHU",
        "outputId": "9502f1ad-4b64-4616-d7cf-84edb986a7eb"
      },
      "execution_count": 43,
      "outputs": [
        {
          "output_type": "execute_result",
          "data": {
            "text/plain": [
              "0.0665428199888538"
            ]
          },
          "metadata": {},
          "execution_count": 43
        }
      ]
    },
    {
      "cell_type": "code",
      "source": [
        "result_binary.sum()"
      ],
      "metadata": {
        "colab": {
          "base_uri": "https://localhost:8080/",
          "height": 0
        },
        "id": "eWb8m8z-lgs-",
        "outputId": "36531ac7-3667-454b-bc34-3f5bfb0dee0a"
      },
      "execution_count": 42,
      "outputs": [
        {
          "output_type": "execute_result",
          "data": {
            "text/plain": [
              "0"
            ]
          },
          "metadata": {},
          "execution_count": 42
        }
      ]
    },
    {
      "cell_type": "markdown",
      "source": [
        "- model.predict_classes() is deprecated and will be removed after 2021-01-01.\n",
        "- Please use instead:\n",
        " * np.argmax(model.predict(x), axis=-1), if your model does multi-class classification (e.g. if it uses a softmax last-layer activation).\n",
        " * (model.predict(x) > 0.5).astype(\"int32\"), if your model does binary classification (e.g. if it uses a sigmoid last-layer activation)."
      ],
      "metadata": {
        "id": "PeGrBmCHk_f1"
      }
    },
    {
      "cell_type": "markdown",
      "source": [
        "Conclusion: Precision increase a litte, by 2% than using the top 5%, which is as expected."
      ],
      "metadata": {
        "id": "gZYVmw3KW3IS"
      }
    }
  ]
}